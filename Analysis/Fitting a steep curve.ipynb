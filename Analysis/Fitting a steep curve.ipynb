{
 "cells": [
  {
   "cell_type": "code",
   "execution_count": 1,
   "id": "42d5611f",
   "metadata": {},
   "outputs": [
    {
     "data": {
      "text/html": [
       "<div>\n",
       "<style scoped>\n",
       "    .dataframe tbody tr th:only-of-type {\n",
       "        vertical-align: middle;\n",
       "    }\n",
       "\n",
       "    .dataframe tbody tr th {\n",
       "        vertical-align: top;\n",
       "    }\n",
       "\n",
       "    .dataframe thead th {\n",
       "        text-align: right;\n",
       "    }\n",
       "</style>\n",
       "<table border=\"1\" class=\"dataframe\">\n",
       "  <thead>\n",
       "    <tr style=\"text-align: right;\">\n",
       "      <th></th>\n",
       "      <th>Term</th>\n",
       "      <th>Rank</th>\n",
       "      <th>Log</th>\n",
       "      <th>Search Volume</th>\n",
       "      <th>Search Volume Trend (30 days)</th>\n",
       "      <th>Competing Products</th>\n",
       "      <th>Sponsored ASINs</th>\n",
       "    </tr>\n",
       "  </thead>\n",
       "  <tbody>\n",
       "    <tr>\n",
       "      <th>0</th>\n",
       "      <td>were good</td>\n",
       "      <td>686707</td>\n",
       "      <td>0.349315</td>\n",
       "      <td>894</td>\n",
       "      <td>0.0</td>\n",
       "      <td>100000</td>\n",
       "      <td>94</td>\n",
       "    </tr>\n",
       "    <tr>\n",
       "      <th>1</th>\n",
       "      <td>top 100</td>\n",
       "      <td>347635</td>\n",
       "      <td>0.644963</td>\n",
       "      <td>1708</td>\n",
       "      <td>0.0</td>\n",
       "      <td>100000</td>\n",
       "      <td>8</td>\n",
       "    </tr>\n",
       "    <tr>\n",
       "      <th>2</th>\n",
       "      <td>good for u</td>\n",
       "      <td>370630</td>\n",
       "      <td>0.617146</td>\n",
       "      <td>1710</td>\n",
       "      <td>0.0</td>\n",
       "      <td>100000</td>\n",
       "      <td>0</td>\n",
       "    </tr>\n",
       "    <tr>\n",
       "      <th>3</th>\n",
       "      <td>cheap masks for women</td>\n",
       "      <td>718434</td>\n",
       "      <td>0.329699</td>\n",
       "      <td>512</td>\n",
       "      <td>0.0</td>\n",
       "      <td>100000</td>\n",
       "      <td>0</td>\n",
       "    </tr>\n",
       "    <tr>\n",
       "      <th>4</th>\n",
       "      <td>super deep</td>\n",
       "      <td>249292</td>\n",
       "      <td>0.789378</td>\n",
       "      <td>2300</td>\n",
       "      <td>0.0</td>\n",
       "      <td>90000</td>\n",
       "      <td>491</td>\n",
       "    </tr>\n",
       "  </tbody>\n",
       "</table>\n",
       "</div>"
      ],
      "text/plain": [
       "                    Term    Rank       Log  Search Volume  \\\n",
       "0              were good  686707  0.349315            894   \n",
       "1                top 100  347635  0.644963           1708   \n",
       "2             good for u  370630  0.617146           1710   \n",
       "3  cheap masks for women  718434  0.329699            512   \n",
       "4             super deep  249292  0.789378           2300   \n",
       "\n",
       "   Search Volume Trend (30 days)  Competing Products  Sponsored ASINs  \n",
       "0                            0.0              100000               94  \n",
       "1                            0.0              100000                8  \n",
       "2                            0.0              100000                0  \n",
       "3                            0.0              100000                0  \n",
       "4                            0.0               90000              491  "
      ]
     },
     "execution_count": 1,
     "metadata": {},
     "output_type": "execute_result"
    }
   ],
   "source": [
    "import numpy as np\n",
    "import matplotlib.pyplot as plt\n",
    "import pandas as pd\n",
    "import seaborn as sns\n",
    "import statistics\n",
    "%matplotlib inline\n",
    "\n",
    "df = pd.read_csv('curve_data.csv')\n",
    "df.head()"
   ]
  },
  {
   "cell_type": "code",
   "execution_count": 2,
   "id": "32829b32",
   "metadata": {},
   "outputs": [],
   "source": [
    "df = df.dropna(how='any')"
   ]
  },
  {
   "cell_type": "code",
   "execution_count": 4,
   "id": "92e104c2",
   "metadata": {},
   "outputs": [],
   "source": [
    "df=df[['Rank', 'Search Volume']]\n",
    "\n",
    "X = df['Rank'].values\n",
    "y = df['Search Volume'].values\n",
    "\n",
    "order = np.argsort(X)\n",
    "X = X[order]\n",
    "y = y[order]"
   ]
  },
  {
   "cell_type": "code",
   "execution_count": 5,
   "id": "966593f0",
   "metadata": {},
   "outputs": [],
   "source": [
    "from sklearn.model_selection import train_test_split \n",
    "X_train, X_test, y_train, y_test = train_test_split(X, y, test_size=0.3, random_state=0)"
   ]
  },
  {
   "cell_type": "code",
   "execution_count": 5,
   "id": "6d051ddd",
   "metadata": {},
   "outputs": [
    {
     "data": {
      "text/plain": [
       "<matplotlib.collections.PathCollection at 0x1d37f6d9970>"
      ]
     },
     "execution_count": 5,
     "metadata": {},
     "output_type": "execute_result"
    },
    {
     "data": {
      "image/png": "[encoded data removed]",
      "text/plain": [
       "<Figure size 432x288 with 1 Axes>"
      ]
     },
     "metadata": {
      "needs_background": "light"
     },
     "output_type": "display_data"
    }
   ],
   "source": [
    "plt.scatter(X, y)"
   ]
  },
  {
   "cell_type": "markdown",
   "id": "6cf4c5e1",
   "metadata": {},
   "source": [
    "We can take the logs to get a better set of data points to fit a line to."
   ]
  },
  {
   "cell_type": "code",
   "execution_count": 6,
   "id": "87649b3a",
   "metadata": {},
   "outputs": [
    {
     "data": {
      "text/plain": [
       "<matplotlib.collections.PathCollection at 0x1d310198df0>"
      ]
     },
     "execution_count": 6,
     "metadata": {},
     "output_type": "execute_result"
    },
    {
     "data": {
      "image/png": "[encoded data removed]",
      "text/plain": [
       "<Figure size 432x288 with 1 Axes>"
      ]
     },
     "metadata": {
      "needs_background": "light"
     },
     "output_type": "display_data"
    }
   ],
   "source": [
    "plt.scatter(np.log(X), np.log(y))"
   ]
  },
  {
   "cell_type": "code",
   "execution_count": 7,
   "id": "390d0bf6",
   "metadata": {},
   "outputs": [
    {
     "data": {
      "text/plain": [
       "LinearRegression()"
      ]
     },
     "execution_count": 7,
     "metadata": {},
     "output_type": "execute_result"
    }
   ],
   "source": [
    "from sklearn.linear_model import LinearRegression\n",
    "\n",
    "lX=np.log(X).reshape(-1,1)\n",
    "ly=np.log(y).reshape(-1,1)\n",
    "\n",
    "y_pred_log= LinearRegression()\n",
    "y_pred_log.fit(lX,ly)"
   ]
  },
  {
   "cell_type": "code",
   "execution_count": 8,
   "id": "77084e9c",
   "metadata": {},
   "outputs": [
    {
     "name": "stdout",
     "output_type": "stream",
     "text": [
      "[[-0.89446276]]\n",
      "[18.79645153]\n"
     ]
    }
   ],
   "source": [
    "print(y_pred_log.coef_)\n",
    "print(y_pred_log.intercept_)"
   ]
  },
  {
   "cell_type": "code",
   "execution_count": 9,
   "id": "dcfb3133",
   "metadata": {},
   "outputs": [
    {
     "data": {
      "text/plain": [
       "[<matplotlib.lines.Line2D at 0x1d310be8610>]"
      ]
     },
     "execution_count": 9,
     "metadata": {},
     "output_type": "execute_result"
    },
    {
     "data": {
      "image/png": "[encoded data removed]",
      "text/plain": [
       "<Figure size 432x288 with 1 Axes>"
      ]
     },
     "metadata": {
      "needs_background": "light"
     },
     "output_type": "display_data"
    }
   ],
   "source": [
    "plt.scatter(np.log(X), np.log(y))\n",
    "plt.plot(np.log(X), np.log(X)*-0.89446276+18.79645153, color='red')"
   ]
  },
  {
   "cell_type": "code",
   "execution_count": 10,
   "id": "14ef7e17",
   "metadata": {},
   "outputs": [
    {
     "name": "stdout",
     "output_type": "stream",
     "text": [
      " Intercept value of Model is:  [18.79645153]\n",
      "Co-efficient Value of Log Model is:  [[-0.89446276]]\n",
      "Equation is: np.exp( 18.796451534809837 )*pow(X, -0.8944627602067986 )\n"
     ]
    }
   ],
   "source": [
    "print(\" Intercept value of Model is: \" ,y_pred_log.intercept_)\n",
    "print(\"Co-efficient Value of Log Model is: \", y_pred_log.coef_)\n",
    "\n",
    "print(\"Equation is: np.exp(\",y_pred_log.intercept_[0],\")*pow(X,\",y_pred_log.coef_[0][0],\")\")"
   ]
  },
  {
   "cell_type": "code",
   "execution_count": 11,
   "id": "0305543c",
   "metadata": {},
   "outputs": [],
   "source": [
    "def predicts(X):\n",
    "    l = []\n",
    "    for i in X:\n",
    "        p = np.exp(18.796451534809837)*pow(X, -0.8944627602067986)\n",
    "        l.append(p)\n",
    "    return l\n",
    "\n",
    "pf_preds = predicts(X)"
   ]
  },
  {
   "cell_type": "code",
   "execution_count": 12,
   "id": "99fe4db1",
   "metadata": {},
   "outputs": [
    {
     "data": {
      "text/plain": [
       "(37604,)"
      ]
     },
     "execution_count": 12,
     "metadata": {},
     "output_type": "execute_result"
    }
   ],
   "source": [
    "pf_preds[0].shape"
   ]
  },
  {
   "cell_type": "code",
   "execution_count": 13,
   "id": "84841c82",
   "metadata": {},
   "outputs": [
    {
     "data": {
      "text/plain": [
       "<matplotlib.collections.PathCollection at 0x1d3126d19a0>"
      ]
     },
     "execution_count": 13,
     "metadata": {},
     "output_type": "execute_result"
    },
    {
     "data": {
      "image/png": "[encoded data removed]",
      "text/plain": [
       "<Figure size 432x288 with 1 Axes>"
      ]
     },
     "metadata": {
      "needs_background": "light"
     },
     "output_type": "display_data"
    }
   ],
   "source": [
    "plt.scatter(X,pf_preds[0], color='red')\n",
    "plt.scatter(X,y)"
   ]
  },
  {
   "cell_type": "code",
   "execution_count": 14,
   "id": "4c7a7572",
   "metadata": {},
   "outputs": [
    {
     "data": {
      "text/plain": [
       "-17.691177825697405"
      ]
     },
     "execution_count": 14,
     "metadata": {},
     "output_type": "execute_result"
    }
   ],
   "source": [
    "from sklearn.metrics import r2_score\n",
    "\n",
    "r2_score(y, pf_preds[0])"
   ]
  },
  {
   "cell_type": "markdown",
   "id": "665cf1cd",
   "metadata": {},
   "source": [
    "Woah, we have some room for improvement here."
   ]
  },
  {
   "cell_type": "code",
   "execution_count": 15,
   "id": "fcc5bc7d",
   "metadata": {},
   "outputs": [
    {
     "data": {
      "text/plain": [
       "array([[16.16276052],\n",
       "       [15.21204123],\n",
       "       [14.84396317],\n",
       "       ...,\n",
       "       [ 6.43903029],\n",
       "       [ 6.43900882],\n",
       "       [ 6.43900614]])"
      ]
     },
     "execution_count": 15,
     "metadata": {},
     "output_type": "execute_result"
    }
   ],
   "source": [
    "l_model= y_pred_log.predict(lX)\n",
    "l_model"
   ]
  },
  {
   "cell_type": "code",
   "execution_count": 16,
   "id": "fa23320d",
   "metadata": {},
   "outputs": [
    {
     "data": {
      "text/html": [
       "<div>\n",
       "<style scoped>\n",
       "    .dataframe tbody tr th:only-of-type {\n",
       "        vertical-align: middle;\n",
       "    }\n",
       "\n",
       "    .dataframe tbody tr th {\n",
       "        vertical-align: top;\n",
       "    }\n",
       "\n",
       "    .dataframe thead th {\n",
       "        text-align: right;\n",
       "    }\n",
       "</style>\n",
       "<table border=\"1\" class=\"dataframe\">\n",
       "  <thead>\n",
       "    <tr style=\"text-align: right;\">\n",
       "      <th></th>\n",
       "      <th>Actual</th>\n",
       "      <th>Predict</th>\n",
       "    </tr>\n",
       "  </thead>\n",
       "  <tbody>\n",
       "    <tr>\n",
       "      <th>0</th>\n",
       "      <td>13.260827</td>\n",
       "      <td>16.162761</td>\n",
       "    </tr>\n",
       "    <tr>\n",
       "      <th>1</th>\n",
       "      <td>13.129536</td>\n",
       "      <td>15.212041</td>\n",
       "    </tr>\n",
       "    <tr>\n",
       "      <th>2</th>\n",
       "      <td>13.222605</td>\n",
       "      <td>14.843963</td>\n",
       "    </tr>\n",
       "    <tr>\n",
       "      <th>3</th>\n",
       "      <td>13.560261</td>\n",
       "      <td>14.791640</td>\n",
       "    </tr>\n",
       "    <tr>\n",
       "      <th>4</th>\n",
       "      <td>13.388360</td>\n",
       "      <td>14.262505</td>\n",
       "    </tr>\n",
       "    <tr>\n",
       "      <th>...</th>\n",
       "      <td>...</td>\n",
       "      <td>...</td>\n",
       "    </tr>\n",
       "    <tr>\n",
       "      <th>37599</th>\n",
       "      <td>7.026427</td>\n",
       "      <td>6.439122</td>\n",
       "    </tr>\n",
       "    <tr>\n",
       "      <th>37600</th>\n",
       "      <td>6.450470</td>\n",
       "      <td>6.439108</td>\n",
       "    </tr>\n",
       "    <tr>\n",
       "      <th>37601</th>\n",
       "      <td>6.504288</td>\n",
       "      <td>6.439030</td>\n",
       "    </tr>\n",
       "    <tr>\n",
       "      <th>37602</th>\n",
       "      <td>6.354370</td>\n",
       "      <td>6.439009</td>\n",
       "    </tr>\n",
       "    <tr>\n",
       "      <th>37603</th>\n",
       "      <td>6.311735</td>\n",
       "      <td>6.439006</td>\n",
       "    </tr>\n",
       "  </tbody>\n",
       "</table>\n",
       "<p>37604 rows × 2 columns</p>\n",
       "</div>"
      ],
      "text/plain": [
       "          Actual    Predict\n",
       "0      13.260827  16.162761\n",
       "1      13.129536  15.212041\n",
       "2      13.222605  14.843963\n",
       "3      13.560261  14.791640\n",
       "4      13.388360  14.262505\n",
       "...          ...        ...\n",
       "37599   7.026427   6.439122\n",
       "37600   6.450470   6.439108\n",
       "37601   6.504288   6.439030\n",
       "37602   6.354370   6.439009\n",
       "37603   6.311735   6.439006\n",
       "\n",
       "[37604 rows x 2 columns]"
      ]
     },
     "execution_count": 16,
     "metadata": {},
     "output_type": "execute_result"
    }
   ],
   "source": [
    "pmsh_pf_1 = pd.DataFrame({'Actual':np.log(y).flatten(), 'Predict': l_model.flatten()})\n",
    "pmsh_pf_1"
   ]
  },
  {
   "cell_type": "code",
   "execution_count": 17,
   "id": "9771bbe2",
   "metadata": {},
   "outputs": [
    {
     "data": {
      "image/png": "[encoded data removed]",
      "text/plain": [
       "<Figure size 432x288 with 1 Axes>"
      ]
     },
     "metadata": {
      "needs_background": "light"
     },
     "output_type": "display_data"
    }
   ],
   "source": [
    "plt.scatter(lX, ly,  color='gray')\n",
    "plt.plot(lX, l_model, color='red', linewidth=2)\n",
    "plt.show()"
   ]
  },
  {
   "cell_type": "code",
   "execution_count": 18,
   "id": "a1ada3b6",
   "metadata": {},
   "outputs": [
    {
     "name": "stdout",
     "output_type": "stream",
     "text": [
      "(37604,)\n",
      "(37604,)\n",
      "(37604,)\n",
      "(37604,)\n"
     ]
    }
   ],
   "source": [
    "lX = np.asarray([item for x in lX for item in x])\n",
    "ly = np.asarray([item for i in ly for item in i])\n",
    "\n",
    "print(X.shape)\n",
    "print(y.shape)\n",
    "print(lX.shape)\n",
    "print(ly.shape)"
   ]
  },
  {
   "cell_type": "markdown",
   "id": "37ca3d43",
   "metadata": {},
   "source": [
    "let's try to fit the curve using np.poly1d"
   ]
  },
  {
   "cell_type": "code",
   "execution_count": 19,
   "id": "19bbdcd0",
   "metadata": {},
   "outputs": [
    {
     "data": {
      "text/plain": [
       "<matplotlib.collections.PathCollection at 0x1d312781310>"
      ]
     },
     "execution_count": 19,
     "metadata": {},
     "output_type": "execute_result"
    },
    {
     "data": {
      "image/png": "[encoded data removed]",
      "text/plain": [
       "<Figure size 432x288 with 1 Axes>"
      ]
     },
     "metadata": {
      "needs_background": "light"
     },
     "output_type": "display_data"
    }
   ],
   "source": [
    "model = np.poly1d(np.polyfit(lX, ly, 2))\n",
    "polyline = np.linspace(1, 14, 500)\n",
    "\n",
    "plt.plot(polyline, model(polyline), '-', color='red')\n",
    "plt.scatter(lX, ly, color='blue')"
   ]
  },
  {
   "cell_type": "markdown",
   "id": "97de5ff7",
   "metadata": {},
   "source": [
    "ok, it already looks a bit better and should take the edge off the overshoot on the far left. Let's output the equation."
   ]
  },
  {
   "cell_type": "code",
   "execution_count": 21,
   "id": "0961e1aa",
   "metadata": {},
   "outputs": [
    {
     "name": "stdout",
     "output_type": "stream",
     "text": [
      "          2\n",
      "-0.02262 x - 0.3591 x + 15.67\n",
      "y = ( -0.022618850909857352 *x**2)+( -0.35907814063444193 *x)+ 15.67103158881088\n"
     ]
    }
   ],
   "source": [
    "print(model)\n",
    "print(\"y = (\",model[2],\"*x**2)+(\",model[1],\"*x)+\",model[0])"
   ]
  },
  {
   "cell_type": "code",
   "execution_count": 22,
   "id": "62bbe5f2",
   "metadata": {},
   "outputs": [],
   "source": [
    "#y = ax2 + bx + c\n",
    "def tester(X):\n",
    "    ty=[]\n",
    "    for x in X:\n",
    "        y = (-0.02261885*x**2)+(-0.35907814*x)+15.67103159\n",
    "        ty.append(y)\n",
    "    return ty"
   ]
  },
  {
   "cell_type": "code",
   "execution_count": 23,
   "id": "508ff550",
   "metadata": {},
   "outputs": [
    {
     "data": {
      "text/plain": [
       "<matplotlib.collections.PathCollection at 0x1d312781340>"
      ]
     },
     "execution_count": 23,
     "metadata": {},
     "output_type": "execute_result"
    },
    {
     "data": {
      "image/png": "[encoded data removed]",
      "text/plain": [
       "<Figure size 432x288 with 1 Axes>"
      ]
     },
     "metadata": {
      "needs_background": "light"
     },
     "output_type": "display_data"
    }
   ],
   "source": [
    "tester_y = tester(lX)\n",
    "plt.plot(lX, tester_y, '-', color='red')\n",
    "plt.scatter(lX, ly, color='blue')"
   ]
  },
  {
   "cell_type": "code",
   "execution_count": 24,
   "id": "569c1524",
   "metadata": {},
   "outputs": [
    {
     "data": {
      "text/plain": [
       "[<matplotlib.lines.Line2D at 0x1d5fc0828b0>]"
      ]
     },
     "execution_count": 24,
     "metadata": {},
     "output_type": "execute_result"
    },
    {
     "data": {
      "image/png": "[encoded data removed]",
      "text/plain": [
       "<Figure size 432x288 with 1 Axes>"
      ]
     },
     "metadata": {
      "needs_background": "light"
     },
     "output_type": "display_data"
    }
   ],
   "source": [
    "import math\n",
    "\n",
    "def predicter(X):\n",
    "    ty=[]\n",
    "    for x in X:\n",
    "        lx = np.log(x)\n",
    "        y = (-0.02261885*lx**2)+(-0.35907814*lx)+15.67103159\n",
    "        y = math.e**y\n",
    "        ty.append(y)\n",
    "    return ty\n",
    "\n",
    "preds = predicter(X)\n",
    "\n",
    "plt.scatter(X, y)\n",
    "plt.plot(X, preds, color='red')\n",
    "plt.plot(X, pf_preds[0], color='green')"
   ]
  },
  {
   "cell_type": "markdown",
   "id": "e70f85aa",
   "metadata": {},
   "source": [
    "We're still overshooting by a lot. Let's see if we can improve it more."
   ]
  },
  {
   "cell_type": "code",
   "execution_count": 25,
   "id": "3e48004e",
   "metadata": {},
   "outputs": [
    {
     "name": "stdout",
     "output_type": "stream",
     "text": [
      "10456773.604881031\n",
      "[1826019.102352234]\n"
     ]
    }
   ],
   "source": [
    "test_n = 19\n",
    "\n",
    "print(np.exp(18.796451534809837)*pow(test_n, -0.8944627602067986))\n",
    "print(predicter([test_n]))"
   ]
  },
  {
   "cell_type": "code",
   "execution_count": 26,
   "id": "92db1636",
   "metadata": {},
   "outputs": [
    {
     "data": {
      "text/plain": [
       "0.6336124317481571"
      ]
     },
     "execution_count": 26,
     "metadata": {},
     "output_type": "execute_result"
    }
   ],
   "source": [
    "r2_score(y, preds)"
   ]
  },
  {
   "cell_type": "markdown",
   "id": "b73470d5",
   "metadata": {},
   "source": [
    "We'll try another method to try to improve this. We'll use scipy's curve_fit function for this, and we'll try it with multiple equations to see which gives us the best fit."
   ]
  },
  {
   "cell_type": "code",
   "execution_count": 27,
   "id": "03d60cd4",
   "metadata": {},
   "outputs": [],
   "source": [
    "from scipy.optimize import curve_fit"
   ]
  },
  {
   "cell_type": "code",
   "execution_count": 28,
   "id": "a06969ba",
   "metadata": {},
   "outputs": [],
   "source": [
    "def func1(x, a, b, c):\n",
    "    return a*x**2+b*x+c\n",
    "\n",
    "def func2(x, a, b, c):\n",
    "    return a*x**3+b*x+c\n",
    "\n",
    "def func3(x, a, b, c):\n",
    "    return a*x**3+b*x**2+c\n",
    "\n",
    "def func4(x, a, b, c):\n",
    "    return a*np.exp(b*x)+c "
   ]
  },
  {
   "cell_type": "code",
   "execution_count": 29,
   "id": "f85ed66e",
   "metadata": {},
   "outputs": [
    {
     "data": {
      "text/plain": [
       "<matplotlib.collections.PathCollection at 0x1d5fd0ab550>"
      ]
     },
     "execution_count": 29,
     "metadata": {},
     "output_type": "execute_result"
    },
    {
     "data": {
      "image/png": "[encoded data removed]",
      "text/plain": [
       "<Figure size 432x288 with 1 Axes>"
      ]
     },
     "metadata": {
      "needs_background": "light"
     },
     "output_type": "display_data"
    }
   ],
   "source": [
    "x = np.log(X)\n",
    "y = np.log(y)\n",
    "plt.scatter(x,y)"
   ]
  },
  {
   "cell_type": "code",
   "execution_count": 30,
   "id": "c690f3a2",
   "metadata": {},
   "outputs": [],
   "source": [
    "params, _ = curve_fit(func1, x, y)\n",
    "a, b, c = params[0], params[1], params[2]\n",
    "yfit1 = a*x**2+b*x+c\n",
    "\n",
    "params, _  = curve_fit(func2, x, y)\n",
    "a, b, c = params[0], params[1], params[2]\n",
    "yfit2 = a*x**3+b*x+c\n",
    "\n",
    "params, _  = curve_fit(func3, x, y)\n",
    "a, b, c = params[0], params[1], params[2]\n",
    "yfit3 = a*x**3+b*x**2+c\n",
    "\n",
    "params, _  = curve_fit(func4, x, y)\n",
    "a, b, c = params[0], params[1], params[2]\n",
    "yfit4 = a*np.exp(x*b)+c"
   ]
  },
  {
   "cell_type": "code",
   "execution_count": 33,
   "id": "6dddd06b",
   "metadata": {},
   "outputs": [
    {
     "data": {
      "image/png": "[encoded data removed]",
      "text/plain": [
       "<Figure size 432x288 with 1 Axes>"
      ]
     },
     "metadata": {
      "needs_background": "light"
     },
     "output_type": "display_data"
    }
   ],
   "source": [
    "plt.plot(x, y, 'bo', label=\"y-original\")\n",
    "plt.plot(x, yfit1, label=\"y=a*x^2+b*x+c\")\n",
    "plt.plot(x, yfit2, label=\"y=a*x^3+b*x+c\")\n",
    "plt.plot(x, yfit3, label=\"y=a*x^3+b*x^2*c\")\n",
    "plt.plot(x, yfit4, label=\"y=a*exp(b*x)+c\")\n",
    "plt.xlabel('x')\n",
    "plt.ylabel('y')\n",
    "plt.legend(loc='best', fancybox=True, shadow=True)\n",
    "plt.grid(True)\n",
    "plt.show() "
   ]
  },
  {
   "cell_type": "markdown",
   "id": "e70f7976",
   "metadata": {},
   "source": [
    "let's take the best equation for the fit, func3."
   ]
  },
  {
   "cell_type": "code",
   "execution_count": 34,
   "id": "60972588",
   "metadata": {},
   "outputs": [
    {
     "name": "stdout",
     "output_type": "stream",
     "text": [
      "yfit3 =  0.000982760553677512 *x**3+ -0.05546049083263377 *x**2+ 14.391678884278814\n"
     ]
    }
   ],
   "source": [
    "params, _  = curve_fit(func3, x, y)\n",
    "a, b, c = params[0], params[1], params[2]\n",
    "print(\"yfit3 = \",a,\"*x**3+\",b,\"*x**2+\",c)"
   ]
  },
  {
   "cell_type": "code",
   "execution_count": 36,
   "id": "41faa132",
   "metadata": {},
   "outputs": [
    {
     "data": {
      "text/plain": [
       "2.718281828459045"
      ]
     },
     "execution_count": 36,
     "metadata": {},
     "output_type": "execute_result"
    }
   ],
   "source": [
    "math.e"
   ]
  },
  {
   "cell_type": "markdown",
   "id": "668995e0",
   "metadata": {},
   "source": [
    "math.e is Euler's number and can be used to reverse the logs in the equations."
   ]
  },
  {
   "cell_type": "code",
   "execution_count": 35,
   "id": "bcc1875a",
   "metadata": {},
   "outputs": [],
   "source": [
    "def final_predicter(X):\n",
    "    ty=[]\n",
    "    for x in X:\n",
    "        lx = np.log(x)\n",
    "        y = 0.000982760553677512 *lx**3+ -0.05546049083263377 *lx**2+ 14.391678884278814\n",
    "        y = math.e**y\n",
    "        ty.append(y)\n",
    "    return ty"
   ]
  },
  {
   "cell_type": "code",
   "execution_count": 36,
   "id": "110bea60",
   "metadata": {},
   "outputs": [],
   "source": [
    "df=df[['Rank', 'Search Volume']]\n",
    "\n",
    "X = df['Rank'].values\n",
    "y = df['Search Volume'].values\n",
    "\n",
    "order = np.argsort(X)\n",
    "X = X[order]\n",
    "y = y[order]"
   ]
  },
  {
   "cell_type": "code",
   "execution_count": 37,
   "id": "2d0f823f",
   "metadata": {},
   "outputs": [
    {
     "data": {
      "text/plain": [
       "[<matplotlib.lines.Line2D at 0x1d5fee93fa0>]"
      ]
     },
     "execution_count": 37,
     "metadata": {},
     "output_type": "execute_result"
    },
    {
     "data": {
      "image/png": "[encoded data removed]",
      "text/plain": [
       "<Figure size 432x288 with 1 Axes>"
      ]
     },
     "metadata": {
      "needs_background": "light"
     },
     "output_type": "display_data"
    }
   ],
   "source": [
    "import math\n",
    "\n",
    "final_preds = final_predicter(X)\n",
    "\n",
    "plt.scatter(X, y)\n",
    "plt.plot(X, pf_preds[0], color='black')\n",
    "plt.plot(X, preds, color='red')\n",
    "plt.plot(X, final_preds, color='green')"
   ]
  },
  {
   "cell_type": "markdown",
   "id": "6072ed19",
   "metadata": {},
   "source": [
    "We can see how our equation improved massively (green line is our most recent and doesn't overshoot nearly as much on the left as the previous two lines [red and black])"
   ]
  },
  {
   "cell_type": "code",
   "execution_count": 38,
   "id": "41e0ddba",
   "metadata": {},
   "outputs": [
    {
     "data": {
      "text/plain": [
       "0.8666747311884967"
      ]
     },
     "execution_count": 38,
     "metadata": {},
     "output_type": "execute_result"
    }
   ],
   "source": [
    "from sklearn import metrics\n",
    "\n",
    "metrics.explained_variance_score(y, final_preds)"
   ]
  },
  {
   "cell_type": "code",
   "execution_count": 39,
   "id": "fac591a1",
   "metadata": {},
   "outputs": [
    {
     "data": {
      "text/plain": [
       "(-20000.0, 20000.0)"
      ]
     },
     "execution_count": 39,
     "metadata": {},
     "output_type": "execute_result"
    },
    {
     "data": {
      "image/png": "[encoded data removed]",
      "text/plain": [
       "<Figure size 432x288 with 1 Axes>"
      ]
     },
     "metadata": {
      "needs_background": "light"
     },
     "output_type": "display_data"
    }
   ],
   "source": [
    "sns.histplot(y-final_preds, bins=10000)\n",
    "plt.xlim(-20000,20000)"
   ]
  },
  {
   "cell_type": "markdown",
   "id": "3a8fe13b",
   "metadata": {},
   "source": [
    "We can see our errors have a normal distribution, meaning the model can be trusted."
   ]
  },
  {
   "cell_type": "code",
   "execution_count": 40,
   "id": "a4354066",
   "metadata": {},
   "outputs": [
    {
     "data": {
      "text/plain": [
       "0.8665130298624291"
      ]
     },
     "execution_count": 40,
     "metadata": {},
     "output_type": "execute_result"
    }
   ],
   "source": [
    "r2_score(y, final_preds)"
   ]
  },
  {
   "cell_type": "markdown",
   "id": "10966a09",
   "metadata": {},
   "source": [
    "We also have a much better score than we originally had."
   ]
  }
 ],
 "metadata": {
  "kernelspec": {
   "display_name": "Python 3 (ipykernel)",
   "language": "python",
   "name": "python3"
  },
  "language_info": {
   "codemirror_mode": {
    "name": "ipython",
    "version": 3
   },
   "file_extension": ".py",
   "mimetype": "text/x-python",
   "name": "python",
   "nbconvert_exporter": "python",
   "pygments_lexer": "ipython3",
   "version": "3.9.7"
  }
 },
 "nbformat": 4,
 "nbformat_minor": 5
}
