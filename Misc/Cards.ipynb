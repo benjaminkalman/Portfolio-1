{
 "cells": [
  {
   "cell_type": "markdown",
   "metadata": {},
   "source": [
    "To create this program, we will only need to import one library which will be used to \"shuffle\" our deck."
   ]
  },
  {
   "cell_type": "code",
   "execution_count": 1,
   "metadata": {},
   "outputs": [],
   "source": [
    "from random import randint"
   ]
  },
  {
   "cell_type": "markdown",
   "metadata": {},
   "source": [
    "Now we can create the deck using a while loop and some iterations."
   ]
  },
  {
   "cell_type": "code",
   "execution_count": 2,
   "metadata": {},
   "outputs": [
    {
     "data": {
      "text/plain": [
       "52"
      ]
     },
     "execution_count": 2,
     "metadata": {},
     "output_type": "execute_result"
    }
   ],
   "source": [
    "deck = []\n",
    "x = 2\n",
    "suits = ['Spades', 'Clubs', 'Diamonds', 'Hearts']\n",
    "faces = ['Jack', 'Queen', 'King', 'Ace']\n",
    "while x <=10:\n",
    "    for s in suits:\n",
    "        card = str(x) + ' of ' + s\n",
    "        deck.append(card)\n",
    "    x+=1\n",
    "\n",
    "for s in suits:\n",
    "    for f in faces:\n",
    "        card = f + ' of ' + s\n",
    "        deck.append(card)\n",
    "        \n",
    "len(deck)"
   ]
  },
  {
   "cell_type": "markdown",
   "metadata": {},
   "source": [
    "Now that we have a deck, we can use a while loop to run the game."
   ]
  },
  {
   "cell_type": "code",
   "execution_count": 5,
   "metadata": {},
   "outputs": [],
   "source": [
    "while len(deck) > 0:\n",
    "    draw = input('There are %s card(s) left in this deck. Hit enter to draw a card.' %len(deck))\n",
    "    number = randint(0, len(deck)-1)\n",
    "    your_card = deck[number]\n",
    "    print(your_card)\n",
    "    deck.remove(your_card)\n",
    "    if len(deck) == 0:\n",
    "        restart = input(\"You've drawn the last card. Enter 'y' to reshuffle.\")\n",
    "        if restart == 'y':\n",
    "            x = 2\n",
    "            suits = ['Spades', 'Clubs', 'Diamonds', 'Hearts']\n",
    "            faces = ['Jack', 'Queen', 'King', 'Ace']\n",
    "            while x <=10:\n",
    "                for s in suits:\n",
    "                    card = str(x) + ' of ' + s\n",
    "                    deck.append(card)\n",
    "                x+=1\n",
    "\n",
    "            for s in suits:\n",
    "                for f in faces:\n",
    "                    card = f + ' of ' + s\n",
    "                    deck.append(card)\n",
    "            continue\n",
    "        else:\n",
    "            print('Close the program.')\n",
    "    else:\n",
    "        continue"
   ]
  }
 ],
 "metadata": {
  "kernelspec": {
   "display_name": "Python 3",
   "language": "python",
   "name": "python3"
  },
  "language_info": {
   "codemirror_mode": {
    "name": "ipython",
    "version": 3
   },
   "file_extension": ".py",
   "mimetype": "text/x-python",
   "name": "python",
   "nbconvert_exporter": "python",
   "pygments_lexer": "ipython3",
   "version": "3.6.5"
  }
 },
 "nbformat": 4,
 "nbformat_minor": 2
}
