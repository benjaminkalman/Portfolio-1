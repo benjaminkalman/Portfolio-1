{
 "cells": [
  {
   "cell_type": "markdown",
   "metadata": {},
   "source": [
    "In this project, I will use the TextBlob library to run a sentiment analysis on movie review data.\n",
    "\n",
    "To begin, I'm going to create a Pandas DataFrame using a data set known as the \"Polarity Data Set\". It is a set of 1,000 positive and 1,000 negative movie reviews. The data is broken down into files in two seperate folders. Each positive review is a .txt file in a 'pos' folder, and each negative review is a file in the 'neg' folder. Both folders are located in a folde named 'txt_sentoken'.\n",
    "\n",
    "Once the data is structured, I will clean it up and format it so that the algorithm can read it, play with it a little to look for any features that stand out, and then test the TextBlob classification algorithm."
   ]
  },
  {
   "cell_type": "markdown",
   "metadata": {},
   "source": [
    "I'll start by importing some libraries I'll be using and creating the data set."
   ]
  },
  {
   "cell_type": "code",
   "execution_count": 1,
   "metadata": {},
   "outputs": [],
   "source": [
    "import pandas as pd\n",
    "import matplotlib.pyplot as plt\n",
    "import seaborn as sns\n",
    "import numpy as np\n",
    "import csv\n",
    "import os"
   ]
  },
  {
   "cell_type": "code",
   "execution_count": 2,
   "metadata": {},
   "outputs": [
    {
     "name": "stdout",
     "output_type": "stream",
     "text": [
      "C:\\Users\\dglover\\Desktop\n",
      "C:\\Users\\dglover\\Desktop\n"
     ]
    },
    {
     "data": {
      "text/plain": [
       "1    1000\n",
       "0    1000\n",
       "Name: sent, dtype: int64"
      ]
     },
     "execution_count": 2,
     "metadata": {},
     "output_type": "execute_result"
    }
   ],
   "source": [
    "os.chdir('\\\\Users\\dglover\\Desktop')\n",
    "cwd = os.getcwd()\n",
    "print(cwd)\n",
    "\n",
    "pos_rev_folders = os.listdir(str(cwd+'/txt_sentoken/pos/'))\n",
    "os.chdir('txt_sentoken/pos/')\n",
    "\n",
    "cwd = os.getcwd()\n",
    "pos_revs = []\n",
    "for r in pos_rev_folders:\n",
    "    with open(r) as f:\n",
    "        revs = f.read()\n",
    "        pos_revs.append(revs)\n",
    "        \n",
    "pos_df = pd.DataFrame(data=pos_revs)\n",
    "pos_df['review']=pos_df[0]\n",
    "pos_df.drop(0, axis=1, inplace=True)\n",
    "pos_df['sentiment'] = 'pos'\n",
    "pos_df['sent'] = 1\n",
    "#pos_df.head()\n",
    "\n",
    "os.chdir('\\\\Users\\dglover\\Desktop')\n",
    "cwd = os.getcwd()\n",
    "print(cwd)\n",
    "os.chdir('txt_sentoken/neg/')\n",
    "neg_rev_folders = os.listdir(str(cwd+'/txt_sentoken/neg/'))\n",
    "\n",
    "cwd = os.getcwd()\n",
    "neg_revs = []\n",
    "for r in neg_rev_folders:\n",
    "    with open(r) as f:\n",
    "        revs = f.read()\n",
    "        neg_revs.append(revs)\n",
    "        \n",
    "neg_df = pd.DataFrame(data=neg_revs)\n",
    "neg_df['review']=neg_df[0]\n",
    "neg_df.drop(0, axis=1, inplace=True)\n",
    "neg_df['sentiment'] = 'neg'\n",
    "neg_df['sent'] = 0\n",
    "#neg_df.head()\n",
    "\n",
    "df = pd.concat([pos_df, neg_df])\n",
    "#df.head()\n",
    "df['sent'].value_counts()"
   ]
  },
  {
   "cell_type": "code",
   "execution_count": 3,
   "metadata": {},
   "outputs": [
    {
     "data": {
      "text/html": [
       "<div>\n",
       "<style scoped>\n",
       "    .dataframe tbody tr th:only-of-type {\n",
       "        vertical-align: middle;\n",
       "    }\n",
       "\n",
       "    .dataframe tbody tr th {\n",
       "        vertical-align: top;\n",
       "    }\n",
       "\n",
       "    .dataframe thead th {\n",
       "        text-align: right;\n",
       "    }\n",
       "</style>\n",
       "<table border=\"1\" class=\"dataframe\">\n",
       "  <thead>\n",
       "    <tr style=\"text-align: right;\">\n",
       "      <th></th>\n",
       "      <th>review</th>\n",
       "      <th>sentiment</th>\n",
       "      <th>sent</th>\n",
       "    </tr>\n",
       "  </thead>\n",
       "  <tbody>\n",
       "    <tr>\n",
       "      <th>0</th>\n",
       "      <td>films adapted from comic books have had plenty...</td>\n",
       "      <td>pos</td>\n",
       "      <td>1</td>\n",
       "    </tr>\n",
       "    <tr>\n",
       "      <th>1</th>\n",
       "      <td>every now and then a movie comes along from a ...</td>\n",
       "      <td>pos</td>\n",
       "      <td>1</td>\n",
       "    </tr>\n",
       "    <tr>\n",
       "      <th>2</th>\n",
       "      <td>you've got mail works alot better than it dese...</td>\n",
       "      <td>pos</td>\n",
       "      <td>1</td>\n",
       "    </tr>\n",
       "    <tr>\n",
       "      <th>3</th>\n",
       "      <td>\" jaws \" is a rare film that grabs your atten...</td>\n",
       "      <td>pos</td>\n",
       "      <td>1</td>\n",
       "    </tr>\n",
       "    <tr>\n",
       "      <th>4</th>\n",
       "      <td>moviemaking is a lot like being the general ma...</td>\n",
       "      <td>pos</td>\n",
       "      <td>1</td>\n",
       "    </tr>\n",
       "  </tbody>\n",
       "</table>\n",
       "</div>"
      ],
      "text/plain": [
       "                                              review sentiment  sent\n",
       "0  films adapted from comic books have had plenty...       pos     1\n",
       "1  every now and then a movie comes along from a ...       pos     1\n",
       "2  you've got mail works alot better than it dese...       pos     1\n",
       "3   \" jaws \" is a rare film that grabs your atten...       pos     1\n",
       "4  moviemaking is a lot like being the general ma...       pos     1"
      ]
     },
     "execution_count": 3,
     "metadata": {},
     "output_type": "execute_result"
    }
   ],
   "source": [
    "df.head()"
   ]
  },
  {
   "cell_type": "markdown",
   "metadata": {},
   "source": [
    "I will now remove stopwords from the data. Stopwords are words that are used too often to hold a positive or negative value, so they aren't useful to us here."
   ]
  },
  {
   "cell_type": "code",
   "execution_count": 4,
   "metadata": {},
   "outputs": [
    {
     "name": "stdout",
     "output_type": "stream",
     "text": [
      "[nltk_data] Downloading package stopwords to\n",
      "[nltk_data]     C:\\Users\\dglover\\AppData\\Roaming\\nltk_data...\n",
      "[nltk_data]   Package stopwords is already up-to-date!\n"
     ]
    },
    {
     "data": {
      "text/html": [
       "<div>\n",
       "<style scoped>\n",
       "    .dataframe tbody tr th:only-of-type {\n",
       "        vertical-align: middle;\n",
       "    }\n",
       "\n",
       "    .dataframe tbody tr th {\n",
       "        vertical-align: top;\n",
       "    }\n",
       "\n",
       "    .dataframe thead th {\n",
       "        text-align: right;\n",
       "    }\n",
       "</style>\n",
       "<table border=\"1\" class=\"dataframe\">\n",
       "  <thead>\n",
       "    <tr style=\"text-align: right;\">\n",
       "      <th></th>\n",
       "      <th>review</th>\n",
       "      <th>sentiment</th>\n",
       "      <th>sent</th>\n",
       "    </tr>\n",
       "  </thead>\n",
       "  <tbody>\n",
       "    <tr>\n",
       "      <th>0</th>\n",
       "      <td>films adapted comic books plenty success , whe...</td>\n",
       "      <td>pos</td>\n",
       "      <td>1</td>\n",
       "    </tr>\n",
       "    <tr>\n",
       "      <th>1</th>\n",
       "      <td>every movie comes along suspect studio , every...</td>\n",
       "      <td>pos</td>\n",
       "      <td>1</td>\n",
       "    </tr>\n",
       "    <tr>\n",
       "      <th>2</th>\n",
       "      <td>got mail works alot better deserves . order ma...</td>\n",
       "      <td>pos</td>\n",
       "      <td>1</td>\n",
       "    </tr>\n",
       "    <tr>\n",
       "      <th>3</th>\n",
       "      <td>\" jaws \" rare film grabs attention shows singl...</td>\n",
       "      <td>pos</td>\n",
       "      <td>1</td>\n",
       "    </tr>\n",
       "    <tr>\n",
       "      <th>4</th>\n",
       "      <td>moviemaking lot like general manager nfl team ...</td>\n",
       "      <td>pos</td>\n",
       "      <td>1</td>\n",
       "    </tr>\n",
       "  </tbody>\n",
       "</table>\n",
       "</div>"
      ],
      "text/plain": [
       "                                              review sentiment  sent\n",
       "0  films adapted comic books plenty success , whe...       pos     1\n",
       "1  every movie comes along suspect studio , every...       pos     1\n",
       "2  got mail works alot better deserves . order ma...       pos     1\n",
       "3  \" jaws \" rare film grabs attention shows singl...       pos     1\n",
       "4  moviemaking lot like general manager nfl team ...       pos     1"
      ]
     },
     "execution_count": 4,
     "metadata": {},
     "output_type": "execute_result"
    }
   ],
   "source": [
    "import nltk\n",
    "from nltk.corpus import stopwords\n",
    "nltk.download('stopwords')\n",
    "cachedStopWords = stopwords.words(\"english\")\n",
    "revs = []\n",
    "for rev in df['review']:\n",
    "    text = ' '.join([word for word in rev.split() if word not in cachedStopWords])\n",
    "    revs.append(text)\n",
    "\n",
    "revs\n",
    "df['review'] = revs\n",
    "df.head()"
   ]
  },
  {
   "cell_type": "code",
   "execution_count": 5,
   "metadata": {},
   "outputs": [
    {
     "name": "stdout",
     "output_type": "stream",
     "text": [
      "<class 'pandas.core.frame.DataFrame'>\n",
      "Int64Index: 2000 entries, 0 to 999\n",
      "Data columns (total 3 columns):\n",
      "review       2000 non-null object\n",
      "sentiment    2000 non-null object\n",
      "sent         2000 non-null int64\n",
      "dtypes: int64(1), object(2)\n",
      "memory usage: 62.5+ KB\n"
     ]
    },
    {
     "data": {
      "text/html": [
       "<div>\n",
       "<style scoped>\n",
       "    .dataframe tbody tr th:only-of-type {\n",
       "        vertical-align: middle;\n",
       "    }\n",
       "\n",
       "    .dataframe tbody tr th {\n",
       "        vertical-align: top;\n",
       "    }\n",
       "\n",
       "    .dataframe thead th {\n",
       "        text-align: right;\n",
       "    }\n",
       "</style>\n",
       "<table border=\"1\" class=\"dataframe\">\n",
       "  <thead>\n",
       "    <tr style=\"text-align: right;\">\n",
       "      <th></th>\n",
       "      <th>sent</th>\n",
       "    </tr>\n",
       "  </thead>\n",
       "  <tbody>\n",
       "    <tr>\n",
       "      <th>count</th>\n",
       "      <td>2000.000000</td>\n",
       "    </tr>\n",
       "    <tr>\n",
       "      <th>mean</th>\n",
       "      <td>0.500000</td>\n",
       "    </tr>\n",
       "    <tr>\n",
       "      <th>std</th>\n",
       "      <td>0.500125</td>\n",
       "    </tr>\n",
       "    <tr>\n",
       "      <th>min</th>\n",
       "      <td>0.000000</td>\n",
       "    </tr>\n",
       "    <tr>\n",
       "      <th>25%</th>\n",
       "      <td>0.000000</td>\n",
       "    </tr>\n",
       "    <tr>\n",
       "      <th>50%</th>\n",
       "      <td>0.500000</td>\n",
       "    </tr>\n",
       "    <tr>\n",
       "      <th>75%</th>\n",
       "      <td>1.000000</td>\n",
       "    </tr>\n",
       "    <tr>\n",
       "      <th>max</th>\n",
       "      <td>1.000000</td>\n",
       "    </tr>\n",
       "  </tbody>\n",
       "</table>\n",
       "</div>"
      ],
      "text/plain": [
       "              sent\n",
       "count  2000.000000\n",
       "mean      0.500000\n",
       "std       0.500125\n",
       "min       0.000000\n",
       "25%       0.000000\n",
       "50%       0.500000\n",
       "75%       1.000000\n",
       "max       1.000000"
      ]
     },
     "execution_count": 5,
     "metadata": {},
     "output_type": "execute_result"
    }
   ],
   "source": [
    "df.info()\n",
    "df.describe()"
   ]
  },
  {
   "cell_type": "markdown",
   "metadata": {},
   "source": [
    "The data looks good. Now I'll try some simple feature engineering to see if I can gather any insights."
   ]
  },
  {
   "cell_type": "code",
   "execution_count": 6,
   "metadata": {},
   "outputs": [
    {
     "data": {
      "text/html": [
       "<div>\n",
       "<style scoped>\n",
       "    .dataframe tbody tr th:only-of-type {\n",
       "        vertical-align: middle;\n",
       "    }\n",
       "\n",
       "    .dataframe tbody tr th {\n",
       "        vertical-align: top;\n",
       "    }\n",
       "\n",
       "    .dataframe thead th {\n",
       "        text-align: right;\n",
       "    }\n",
       "</style>\n",
       "<table border=\"1\" class=\"dataframe\">\n",
       "  <thead>\n",
       "    <tr style=\"text-align: right;\">\n",
       "      <th></th>\n",
       "      <th>review</th>\n",
       "      <th>sentiment</th>\n",
       "      <th>sent</th>\n",
       "      <th>text length</th>\n",
       "    </tr>\n",
       "  </thead>\n",
       "  <tbody>\n",
       "    <tr>\n",
       "      <th>0</th>\n",
       "      <td>films adapted comic books plenty success , whe...</td>\n",
       "      <td>pos</td>\n",
       "      <td>1</td>\n",
       "      <td>3096</td>\n",
       "    </tr>\n",
       "    <tr>\n",
       "      <th>1</th>\n",
       "      <td>every movie comes along suspect studio , every...</td>\n",
       "      <td>pos</td>\n",
       "      <td>1</td>\n",
       "      <td>2919</td>\n",
       "    </tr>\n",
       "    <tr>\n",
       "      <th>2</th>\n",
       "      <td>got mail works alot better deserves . order ma...</td>\n",
       "      <td>pos</td>\n",
       "      <td>1</td>\n",
       "      <td>1551</td>\n",
       "    </tr>\n",
       "    <tr>\n",
       "      <th>3</th>\n",
       "      <td>\" jaws \" rare film grabs attention shows singl...</td>\n",
       "      <td>pos</td>\n",
       "      <td>1</td>\n",
       "      <td>4383</td>\n",
       "    </tr>\n",
       "    <tr>\n",
       "      <th>4</th>\n",
       "      <td>moviemaking lot like general manager nfl team ...</td>\n",
       "      <td>pos</td>\n",
       "      <td>1</td>\n",
       "      <td>2781</td>\n",
       "    </tr>\n",
       "  </tbody>\n",
       "</table>\n",
       "</div>"
      ],
      "text/plain": [
       "                                              review sentiment  sent  \\\n",
       "0  films adapted comic books plenty success , whe...       pos     1   \n",
       "1  every movie comes along suspect studio , every...       pos     1   \n",
       "2  got mail works alot better deserves . order ma...       pos     1   \n",
       "3  \" jaws \" rare film grabs attention shows singl...       pos     1   \n",
       "4  moviemaking lot like general manager nfl team ...       pos     1   \n",
       "\n",
       "   text length  \n",
       "0         3096  \n",
       "1         2919  \n",
       "2         1551  \n",
       "3         4383  \n",
       "4         2781  "
      ]
     },
     "execution_count": 6,
     "metadata": {},
     "output_type": "execute_result"
    }
   ],
   "source": [
    "df['text length'] = df['review'].apply(len)\n",
    "df.head()"
   ]
  },
  {
   "cell_type": "code",
   "execution_count": 7,
   "metadata": {},
   "outputs": [
    {
     "data": {
      "text/plain": [
       "<seaborn.axisgrid.FacetGrid at 0x1934e3bc7b8>"
      ]
     },
     "execution_count": 7,
     "metadata": {},
     "output_type": "execute_result"
    },
    {
     "data": {
      "image/png": "[encoded data removed]",
      "text/plain": [
       "<Figure size 432x216 with 2 Axes>"
      ]
     },
     "metadata": {},
     "output_type": "display_data"
    }
   ],
   "source": [
    "g = sns.FacetGrid(df, col='sent')\n",
    "g.map(plt.hist, 'text length', bins =50)"
   ]
  },
  {
   "cell_type": "code",
   "execution_count": 8,
   "metadata": {},
   "outputs": [
    {
     "data": {
      "text/plain": [
       "<matplotlib.axes._subplots.AxesSubplot at 0x1935151f2e8>"
      ]
     },
     "execution_count": 8,
     "metadata": {},
     "output_type": "execute_result"
    },
    {
     "data": {
      "image/png": "[encoded data removed]",
      "text/plain": [
       "<Figure size 432x288 with 1 Axes>"
      ]
     },
     "metadata": {},
     "output_type": "display_data"
    }
   ],
   "source": [
    "sns.boxplot(y = 'text length', x = 'sent', data = df)"
   ]
  },
  {
   "cell_type": "markdown",
   "metadata": {},
   "source": [
    "Looks like the length of the reviews isn't going to help much here."
   ]
  },
  {
   "cell_type": "code",
   "execution_count": 9,
   "metadata": {},
   "outputs": [
    {
     "name": "stdout",
     "output_type": "stream",
     "text": [
      "<class 'pandas.core.frame.DataFrame'>\n",
      "Int64Index: 2000 entries, 0 to 999\n",
      "Data columns (total 4 columns):\n",
      "review         2000 non-null object\n",
      "sentiment      2000 non-null object\n",
      "sent           2000 non-null int64\n",
      "text length    2000 non-null int64\n",
      "dtypes: int64(2), object(2)\n",
      "memory usage: 118.1+ KB\n"
     ]
    },
    {
     "data": {
      "text/plain": [
       "neg    1000\n",
       "pos    1000\n",
       "Name: sentiment, dtype: int64"
      ]
     },
     "execution_count": 9,
     "metadata": {},
     "output_type": "execute_result"
    }
   ],
   "source": [
    "df.info()\n",
    "df.sentiment.value_counts()"
   ]
  },
  {
   "cell_type": "code",
   "execution_count": 10,
   "metadata": {},
   "outputs": [],
   "source": [
    "X = df['review']\n",
    "y = df['sentiment']"
   ]
  },
  {
   "cell_type": "markdown",
   "metadata": {},
   "source": [
    "I need to vectorize the reviews to feed them to the algorithm I'll be using."
   ]
  },
  {
   "cell_type": "code",
   "execution_count": 11,
   "metadata": {},
   "outputs": [],
   "source": [
    "from sklearn.feature_extraction.text import CountVectorizer\n",
    "cv = CountVectorizer()"
   ]
  },
  {
   "cell_type": "code",
   "execution_count": 12,
   "metadata": {},
   "outputs": [],
   "source": [
    "X = cv.fit_transform(X)"
   ]
  },
  {
   "cell_type": "markdown",
   "metadata": {},
   "source": [
    "Now I can split the data for training and testing."
   ]
  },
  {
   "cell_type": "code",
   "execution_count": 13,
   "metadata": {},
   "outputs": [],
   "source": [
    "from sklearn.model_selection import train_test_split\n",
    "X_train, X_test, y_train, y_test = train_test_split(X, y, test_size = .25)"
   ]
  },
  {
   "cell_type": "markdown",
   "metadata": {},
   "source": [
    "I'll first try a Naive Bayes algorithm for classifying the data. Once we see how that works, I'll try TextBlob's algorithm and compare which is better."
   ]
  },
  {
   "cell_type": "code",
   "execution_count": 14,
   "metadata": {},
   "outputs": [],
   "source": [
    "from sklearn.naive_bayes import MultinomialNB\n",
    "nb = MultinomialNB()"
   ]
  },
  {
   "cell_type": "code",
   "execution_count": 15,
   "metadata": {},
   "outputs": [
    {
     "data": {
      "text/plain": [
       "MultinomialNB(alpha=1.0, class_prior=None, fit_prior=True)"
      ]
     },
     "execution_count": 15,
     "metadata": {},
     "output_type": "execute_result"
    }
   ],
   "source": [
    "nb.fit(X_train, y_train)"
   ]
  },
  {
   "cell_type": "code",
   "execution_count": 16,
   "metadata": {},
   "outputs": [],
   "source": [
    "preds = nb.predict(X_test)"
   ]
  },
  {
   "cell_type": "code",
   "execution_count": 17,
   "metadata": {},
   "outputs": [
    {
     "name": "stdout",
     "output_type": "stream",
     "text": [
      "             precision    recall  f1-score   support\n",
      "\n",
      "        neg       0.76      0.83      0.79       241\n",
      "        pos       0.83      0.75      0.79       259\n",
      "\n",
      "avg / total       0.79      0.79      0.79       500\n",
      "\n",
      "[[201  40]\n",
      " [ 65 194]]\n"
     ]
    }
   ],
   "source": [
    "from sklearn.metrics import classification_report, confusion_matrix\n",
    "print(classification_report(y_test, preds))\n",
    "print(confusion_matrix(y_test, preds))"
   ]
  },
  {
   "cell_type": "markdown",
   "metadata": {},
   "source": [
    "This performs alright. Let's put it in a pipleline and see if that helps at all."
   ]
  },
  {
   "cell_type": "code",
   "execution_count": 18,
   "metadata": {},
   "outputs": [],
   "source": [
    "from sklearn.feature_extraction.text import TfidfTransformer\n",
    "from sklearn.pipeline import Pipeline\n",
    "pipe = Pipeline([('bow', CountVectorizer()), ('tfidf', TfidfTransformer()),\n",
    "                ('model', MultinomialNB())])"
   ]
  },
  {
   "cell_type": "code",
   "execution_count": 19,
   "metadata": {},
   "outputs": [],
   "source": [
    "\n",
    "X = df['review']\n",
    "y = df['sentiment']\n",
    "\n",
    "X_train, X_test, y_train, y_test = train_test_split(X, y, test_size=.25)"
   ]
  },
  {
   "cell_type": "code",
   "execution_count": 20,
   "metadata": {},
   "outputs": [
    {
     "name": "stdout",
     "output_type": "stream",
     "text": [
      "             precision    recall  f1-score   support\n",
      "\n",
      "        neg       0.81      0.87      0.84       249\n",
      "        pos       0.86      0.80      0.83       251\n",
      "\n",
      "avg / total       0.84      0.83      0.83       500\n",
      "\n",
      "[[217  32]\n",
      " [ 51 200]]\n"
     ]
    }
   ],
   "source": [
    "pipe.fit(X_train, y_train)\n",
    "pipe_preds = pipe.predict(X_test)\n",
    "print(classification_report(y_test, pipe_preds))\n",
    "print(confusion_matrix(y_test, pipe_preds))"
   ]
  },
  {
   "cell_type": "markdown",
   "metadata": {},
   "source": [
    "Looks like it helped increase accuracy a bit this time.\n",
    "\n",
    "Let's try out the original algorithm with a simple, new sentence."
   ]
  },
  {
   "cell_type": "code",
   "execution_count": 21,
   "metadata": {},
   "outputs": [
    {
     "name": "stdout",
     "output_type": "stream",
     "text": [
      "['neg']\n"
     ]
    }
   ],
   "source": [
    "sample = cv.transform(['do not eat here'])\n",
    "print(nb.predict(sample))"
   ]
  },
  {
   "cell_type": "markdown",
   "metadata": {},
   "source": [
    "That's easy enough. Now I'll try TextBlob's default algorithm, then a Naive Bayes algorithm with TextBlob."
   ]
  },
  {
   "cell_type": "code",
   "execution_count": 22,
   "metadata": {},
   "outputs": [],
   "source": [
    "from textblob import TextBlob"
   ]
  },
  {
   "cell_type": "markdown",
   "metadata": {},
   "source": [
    "TextBlob's default algorithm gives a polarity score for reviews, so I'll use that to determine if the review is positive, negative or neutral."
   ]
  },
  {
   "cell_type": "code",
   "execution_count": 23,
   "metadata": {},
   "outputs": [
    {
     "data": {
      "text/html": [
       "<div>\n",
       "<style scoped>\n",
       "    .dataframe tbody tr th:only-of-type {\n",
       "        vertical-align: middle;\n",
       "    }\n",
       "\n",
       "    .dataframe tbody tr th {\n",
       "        vertical-align: top;\n",
       "    }\n",
       "\n",
       "    .dataframe thead th {\n",
       "        text-align: right;\n",
       "    }\n",
       "</style>\n",
       "<table border=\"1\" class=\"dataframe\">\n",
       "  <thead>\n",
       "    <tr style=\"text-align: right;\">\n",
       "      <th></th>\n",
       "      <th>review</th>\n",
       "      <th>sentiment</th>\n",
       "      <th>sent</th>\n",
       "      <th>text length</th>\n",
       "      <th>sentiment pred</th>\n",
       "    </tr>\n",
       "  </thead>\n",
       "  <tbody>\n",
       "    <tr>\n",
       "      <th>0</th>\n",
       "      <td>films adapted comic books plenty success , whe...</td>\n",
       "      <td>pos</td>\n",
       "      <td>1</td>\n",
       "      <td>3096</td>\n",
       "      <td>pos</td>\n",
       "    </tr>\n",
       "    <tr>\n",
       "      <th>1</th>\n",
       "      <td>every movie comes along suspect studio , every...</td>\n",
       "      <td>pos</td>\n",
       "      <td>1</td>\n",
       "      <td>2919</td>\n",
       "      <td>pos</td>\n",
       "    </tr>\n",
       "    <tr>\n",
       "      <th>2</th>\n",
       "      <td>got mail works alot better deserves . order ma...</td>\n",
       "      <td>pos</td>\n",
       "      <td>1</td>\n",
       "      <td>1551</td>\n",
       "      <td>pos</td>\n",
       "    </tr>\n",
       "    <tr>\n",
       "      <th>3</th>\n",
       "      <td>\" jaws \" rare film grabs attention shows singl...</td>\n",
       "      <td>pos</td>\n",
       "      <td>1</td>\n",
       "      <td>4383</td>\n",
       "      <td>pos</td>\n",
       "    </tr>\n",
       "    <tr>\n",
       "      <th>4</th>\n",
       "      <td>moviemaking lot like general manager nfl team ...</td>\n",
       "      <td>pos</td>\n",
       "      <td>1</td>\n",
       "      <td>2781</td>\n",
       "      <td>neg</td>\n",
       "    </tr>\n",
       "  </tbody>\n",
       "</table>\n",
       "</div>"
      ],
      "text/plain": [
       "                                              review sentiment  sent  \\\n",
       "0  films adapted comic books plenty success , whe...       pos     1   \n",
       "1  every movie comes along suspect studio , every...       pos     1   \n",
       "2  got mail works alot better deserves . order ma...       pos     1   \n",
       "3  \" jaws \" rare film grabs attention shows singl...       pos     1   \n",
       "4  moviemaking lot like general manager nfl team ...       pos     1   \n",
       "\n",
       "   text length sentiment pred  \n",
       "0         3096            pos  \n",
       "1         2919            pos  \n",
       "2         1551            pos  \n",
       "3         4383            pos  \n",
       "4         2781            neg  "
      ]
     },
     "execution_count": 23,
     "metadata": {},
     "output_type": "execute_result"
    }
   ],
   "source": [
    "sentiment_list = []\n",
    "for s in df['review']:\n",
    "    analysis = TextBlob(s)\n",
    "    sent = analysis.sentiment\n",
    "    if analysis.sentiment[0]>0:\n",
    "        sentiment_list.append('pos')\n",
    "    elif analysis.sentiment[0]<0:\n",
    "        sentiment_list.append('neg')\n",
    "    else:\n",
    "        sentiment_list.append('neutral')\n",
    "\n",
    "df['sentiment pred'] = sentiment_list\n",
    "df.head()"
   ]
  },
  {
   "cell_type": "code",
   "execution_count": 24,
   "metadata": {},
   "outputs": [
    {
     "name": "stdout",
     "output_type": "stream",
     "text": [
      "accuracy: 0.3815\n"
     ]
    }
   ],
   "source": [
    "errors = df[['sentiment', 'sentiment pred']][df['sentiment']!=df['sentiment pred']]\n",
    "errors['sentiment'].count()\n",
    "print('accuracy: ' + str(errors['sentiment'].count()/df['sentiment'].count()))"
   ]
  },
  {
   "cell_type": "markdown",
   "metadata": {},
   "source": [
    "The accuracy is really bad here. Worse than random. I'm going to move on to the Naive Bayes algorithm with TextBlob to seek better results. I'll split the data into training and testing sets for the algorithm."
   ]
  },
  {
   "cell_type": "code",
   "execution_count": 25,
   "metadata": {},
   "outputs": [],
   "source": [
    "train = df[['review', 'sentiment']]\n",
    "train = train[:int(.75*len(train))]\n",
    "train = train.values.tolist()\n",
    "test = df[['review', 'sentiment']][int(.75*len(train)):]\n",
    "test = test.values.tolist()"
   ]
  },
  {
   "cell_type": "markdown",
   "metadata": {},
   "source": [
    "Now I'll train the classifier and test for accuracy."
   ]
  },
  {
   "cell_type": "code",
   "execution_count": 26,
   "metadata": {},
   "outputs": [],
   "source": [
    "from textblob.classifiers import NaiveBayesClassifier\n",
    "cl = NaiveBayesClassifier(train)"
   ]
  },
  {
   "cell_type": "code",
   "execution_count": 27,
   "metadata": {},
   "outputs": [
    {
     "data": {
      "text/plain": [
       "0.8022857142857143"
      ]
     },
     "execution_count": 27,
     "metadata": {},
     "output_type": "execute_result"
    }
   ],
   "source": [
    "cl.accuracy(test)"
   ]
  },
  {
   "cell_type": "markdown",
   "metadata": {},
   "source": [
    "This is pretty good, but again, nothing state of the art.\n",
    "\n",
    "A cool feature of TextBlob is seeing which words hold the heaviest weights. Let's look at the top 10."
   ]
  },
  {
   "cell_type": "code",
   "execution_count": 28,
   "metadata": {},
   "outputs": [
    {
     "name": "stdout",
     "output_type": "stream",
     "text": [
      "Most Informative Features\n",
      "    contains(incoherent) = True              neg : pos    =     15.3 : 1.0\n",
      "     contains(illogical) = True              neg : pos    =     15.3 : 1.0\n",
      "    contains(nomination) = True              pos : neg    =     13.5 : 1.0\n",
      "   contains(overwrought) = True              neg : pos    =     11.3 : 1.0\n",
      "      contains(fairness) = True              neg : pos    =     11.3 : 1.0\n",
      "     contains(insulting) = True              neg : pos    =     10.8 : 1.0\n",
      "      contains(flawless) = True              pos : neg    =     10.2 : 1.0\n",
      "     contains(ludicrous) = True              neg : pos    =     10.0 : 1.0\n",
      "       contains(wasting) = True              neg : pos    =     10.0 : 1.0\n",
      " contains(unimaginative) = True              neg : pos    =     10.0 : 1.0\n"
     ]
    }
   ],
   "source": [
    "cl.show_informative_features(10)"
   ]
  },
  {
   "cell_type": "markdown",
   "metadata": {},
   "source": [
    "Interesting stuff. Next, let's feed a review to the calssifier and see how it performs."
   ]
  },
  {
   "cell_type": "code",
   "execution_count": 29,
   "metadata": {},
   "outputs": [
    {
     "data": {
      "text/plain": [
       "'pos'"
      ]
     },
     "execution_count": 29,
     "metadata": {},
     "output_type": "execute_result"
    }
   ],
   "source": [
    "cl.classify(X_test.iloc[2])"
   ]
  },
  {
   "cell_type": "code",
   "execution_count": 30,
   "metadata": {},
   "outputs": [
    {
     "data": {
      "text/plain": [
       "\"one observe star trek movie expect see serious science fiction . purpose star trek provide flashy , innocent fun . sometimes stories compelling . sometimes they're . , exception first film series ( provides little endless shots amazed faces ) , i've never bored enterprise's numerous missions . star trek : insurrection exception . film gotten negative reviews ( friend mine actually thinks worst series ) , i'm really sure . exciting , often hilarious movie engaged left ready next star trek film . say bit light , long episode film . others say special effects cheesy boring . simply enjoyed film . insurrection , second film feature strictly next generation cast , introduces us race people called ba'ku ; ba'ku old ( three hundred years old ) , actually appear younger age due strange radiation rings planet . course , peaceful people can't horde fountain youth ? leave archenemies , son'a , led ru'afo ( f . murray abraham ) , mess everything . son'a , horribly disfigured rely daily reconstructive surgery aesthetically acceptable , strike deal federation move ba'ku elsewhere exploit secret keep race dying . that's captain picard ( patrick stewart ) steps : realizes moving ba'ku would kill ( also helps falls love ba'ku woman ( donna murphy ) ) . , trusty crew , picard defies federation keep ba'ku natural habitat . dealing series much history , entirely necessary re-introduce characters episode . believe non-fans hard time getting star trek ; order enjoy , one understand approach . insurrection , however , surprisingly good job us new aspects characters . stewart bold always , magnetic screen presence perfectly capable holding entire film together . jonathan frakes , also directed , funny commander riker ; subplot data ( brent spiner ) discovering lost childhood fairly interesting ; abraham makes perfect star trek villain , overacting like crazy . frakes showed similar aptitude direction first contact ; insurrection exciting film , really attractive special effects lot good action . apparently first star trek film utilize computer animation , result pleasing eye : particularly climactic scenes , son'a employ giant space ship suck rings ba'ku planet , special effects clean , impressively sharp look . complaint film , tries take moral stance appropriate . think big deal federation wanted move 600 ba'ku order save lives thousands . better yet , co-existed ? insurrection feels little light spring kinds big moral questions audience . inherent camp factor , star trek series seem well-equipped deal issues like . prefer enjoy spectacle .\""
      ]
     },
     "execution_count": 30,
     "metadata": {},
     "output_type": "execute_result"
    }
   ],
   "source": [
    "X_test.iloc[2]"
   ]
  },
  {
   "cell_type": "markdown",
   "metadata": {},
   "source": [
    "The review does indeed look positive. I'll try a new review now, and since it will be short, I'll use some of the heaviest weighted positive words."
   ]
  },
  {
   "cell_type": "code",
   "execution_count": 31,
   "metadata": {},
   "outputs": [
    {
     "name": "stdout",
     "output_type": "stream",
     "text": [
      "A flawless masterpiece depicting story pride destiny\n"
     ]
    },
    {
     "data": {
      "text/plain": [
       "'pos'"
      ]
     },
     "execution_count": 31,
     "metadata": {},
     "output_type": "execute_result"
    }
   ],
   "source": [
    "new_review =\"A flawless masterpiece depicting a story of pride and destiny\"\n",
    "new_review = ' '.join([word for word in new_review.split() if word not in cachedStopWords])\n",
    "print(new_review)\n",
    "cl.classify(new_review)"
   ]
  },
  {
   "cell_type": "markdown",
   "metadata": {},
   "source": [
    "The classifier worked for this example."
   ]
  }
 ],
 "metadata": {
  "kernelspec": {
   "display_name": "Python 3",
   "language": "python",
   "name": "python3"
  },
  "language_info": {
   "codemirror_mode": {
    "name": "ipython",
    "version": 3
   },
   "file_extension": ".py",
   "mimetype": "text/x-python",
   "name": "python",
   "nbconvert_exporter": "python",
   "pygments_lexer": "ipython3",
   "version": "3.6.5"
  }
 },
 "nbformat": 4,
 "nbformat_minor": 2
}
