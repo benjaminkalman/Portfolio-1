{
 "cells": [
  {
   "cell_type": "markdown",
   "metadata": {},
   "source": [
    "# Image Pre-processing\n",
    "\n",
    "In this workbook, we will pre-process some images to be used in training a neural network. The images processed here are part of a collection of images of nuclei used in Kaggle's Data Science Bowl 2018 competition. The purpose of the contest is to build a model that can detect the nuclei of the given images. You can learn more about this contest here: https://www.kaggle.com/c/data-science-bowl-2018"
   ]
  },
  {
   "cell_type": "markdown",
   "metadata": {},
   "source": [
    "First, we need to import some libraries we will be using."
   ]
  },
  {
   "cell_type": "code",
   "execution_count": 1,
   "metadata": {
    "collapsed": true
   },
   "outputs": [],
   "source": [
    "import numpy as np\n",
    "from PIL import Image\n",
    "import os\n",
    "import cv2\n",
    "import scipy.misc"
   ]
  },
  {
   "cell_type": "markdown",
   "metadata": {},
   "source": [
    "## Doubling the Data\n",
    "\n",
    "The first thing we will do is double our dataset. We will do this by flipping the images, and saving a copy of the flipped image, along with the original, each in it's own directory.\n",
    "\n",
    "Let's set the main directory, then iterate through the directories of images, saving originals and flipped copies of each."
   ]
  },
  {
   "cell_type": "code",
   "execution_count": 2,
   "metadata": {},
   "outputs": [
    {
     "name": "stdout",
     "output_type": "stream",
     "text": [
      "C:\\Users\\Drew\\Desktop\\Data_Science_Bowl_18\\Image_Prep\n"
     ]
    }
   ],
   "source": [
    "os.chdir('C:/Users/Drew/Desktop/Data_Science_Bowl_18/Image_Prep')\n",
    "cwd = os.getcwd()\n",
    "print(cwd)\n",
    "\n",
    "nuclei_folders = os.listdir(str(cwd+'/stage1_train_fix/'))\n",
    "os.chdir('stage1_train_fix/')\n",
    "\n",
    "cwd = os.getcwd()\n",
    "for i in nuclei_folders:\n",
    "    new_dir = str(cwd+'/'+i+'_f_v')\n",
    "    if os.path.isdir(new_dir):\n",
    "        os.chdir(new_dir)\n",
    "    else:\n",
    "        os.mkdir(new_dir)\n",
    "        os.chdir(new_dir)\n",
    "    work_dir = os.getcwd()\n",
    "    \n",
    "    images_dir = str(work_dir+'/images/')\n",
    "    if os.path.isdir(images_dir):\n",
    "        os.chdir(images_dir)\n",
    "    else:\n",
    "        os.mkdir(images_dir)\n",
    "        os.chdir(images_dir)\n",
    "    image = os.listdir(str(cwd+'/'+i+'/images/'))[0]\n",
    "    true_img = cv2.imread(str(cwd+'/'+i+'/images/'+image),cv2.IMREAD_UNCHANGED)\n",
    "    new_img_name = str(image[:-4] + '_f_v.png')\n",
    "    flip_img = cv2.flip(true_img,0)\n",
    "    cv2.imwrite(new_img_name,flip_img)\n",
    "    os.chdir(work_dir)"
   ]
  },
  {
   "cell_type": "markdown",
   "metadata": {},
   "source": [
    "Awesome, we now have double the data.\n",
    "\n",
    "Let's make sure we've reset our directory."
   ]
  },
  {
   "cell_type": "code",
   "execution_count": 3,
   "metadata": {},
   "outputs": [
    {
     "name": "stdout",
     "output_type": "stream",
     "text": [
      "C:\\Users\\Drew\\Desktop\\Data_Science_Bowl_18\\Image_Prep\n"
     ]
    }
   ],
   "source": [
    "os.chdir('C:/Users/Drew/Desktop/Data_Science_Bowl_18/Image_Prep')\n",
    "cwd = os.getcwd()\n",
    "print(cwd)"
   ]
  },
  {
   "cell_type": "markdown",
   "metadata": {
    "collapsed": true
   },
   "source": [
    "## Pre-processing the images\n",
    "\n",
    "Let's now make a few functions we can use to pre-process the images.\n",
    "\n",
    "This first one will determine if the image has a dark or light background. Most images in the data set have dark backgrounds, and we would like to keep this consistent. Therefore, we would like to invert images that have light backgrounds. This first functions purpose is to return a boolean value True if the image is dark, or False if it is light."
   ]
  },
  {
   "cell_type": "code",
   "execution_count": 4,
   "metadata": {
    "collapsed": true
   },
   "outputs": [],
   "source": [
    "def mostly_black(img_path, black_thresh=50, cutoff=0.5):\n",
    "    im = Image.open(img_path).convert('L')\n",
    "    pixels = im.getdata()\n",
    "    black_thresh = 50\n",
    "    nblack = 0\n",
    "    for pixel in pixels:\n",
    "        if pixel < black_thresh:\n",
    "            nblack += 1\n",
    "    n = len(pixels)\n",
    "\n",
    "    if (nblack / float(n)) > cutoff:\n",
    "        val = True\n",
    "    else:\n",
    "        val = False\n",
    "    \n",
    "    return val"
   ]
  },
  {
   "cell_type": "markdown",
   "metadata": {},
   "source": [
    "Now we can use this boolean value to invert light images with a new function."
   ]
  },
  {
   "cell_type": "code",
   "execution_count": 5,
   "metadata": {
    "collapsed": true
   },
   "outputs": [],
   "source": [
    "def invert_imgs(img_path):\n",
    "    img = cv2.imread(img_path)\n",
    "    if mostly_black(img_path):\n",
    "        return img\n",
    "    else:\n",
    "        return cv2.bitwise_not(img)"
   ]
  },
  {
   "cell_type": "markdown",
   "metadata": {},
   "source": [
    "Before we invert the light images, we would like to strecth the contrast of the light images. Doing this will make it easier for our model to detect the nuclei in the images after they are inverted. The functions below will stretch the contrast of an image, but only if the image is returned with a False value when the mostly_black() function is applied, implying a light background."
   ]
  },
  {
   "cell_type": "code",
   "execution_count": 6,
   "metadata": {
    "collapsed": true
   },
   "outputs": [],
   "source": [
    "# Method to process the red band of the image\n",
    "\n",
    "def normalizeRed(intensity):\n",
    "    iI      = intensity    \n",
    "    minI    = 86\n",
    "    maxI    = 230\n",
    "    minO    = 0\n",
    "    maxO    = 255\n",
    "    iO      = (iI-minI)*(((maxO-minO)/(maxI-minI))+minO)\n",
    "    return iO \n",
    "\n",
    "# Method to process the green band of the image\n",
    "\n",
    "def normalizeGreen(intensity):\n",
    "    iI      = intensity\n",
    "    minI    = 90\n",
    "    maxI    = 225\n",
    "    minO    = 0\n",
    "    maxO    = 255\n",
    "    iO      = (iI-minI)*(((maxO-minO)/(maxI-minI))+minO)\n",
    "    return iO\n",
    "\n",
    "# Method to process the blue band of the image\n",
    "\n",
    "def normalizeBlue(intensity):\n",
    "    iI      = intensity\n",
    "    minI    = 100\n",
    "    maxI    = 210\n",
    "    minO    = 0\n",
    "    maxO    = 255\n",
    "    iO      = (iI-minI)*(((maxO-minO)/(maxI-minI))+minO)\n",
    "    return iO\n",
    "    \n",
    "\n",
    "def stretch_contrast(img_path):    \n",
    "    if mostly_black(img_path):\n",
    "        img = Image.open(img_path)\n",
    "        contrasted_img = np.array(img)\n",
    "    \n",
    "    else:\n",
    "        img = Image.open(img_path)\n",
    "        multiBands = img.split()\n",
    "        normalizedRedBand   = multiBands[0].point(normalizeRed)\n",
    "        normalizedGreenBand = multiBands[1].point(normalizeGreen)\n",
    "        normalizedBlueBand  = multiBands[2].point(normalizeBlue)\n",
    "        normalized_img = Image.merge(\"RGB\", (normalizedRedBand, normalizedGreenBand, normalizedBlueBand))\n",
    "        normalized_img.convert('RGB') \n",
    "        open_cv_image = np.array(normalized_img) \n",
    "        # Convert RGB to BGR\n",
    "        contrasted_img = open_cv_image[:, :, ::-1].copy()\n",
    "    \n",
    "    return contrasted_img"
   ]
  },
  {
   "cell_type": "markdown",
   "metadata": {},
   "source": [
    "An example of an image with a light background:\n",
    "\n",
    "https://i.imgur.com/RHO12wu.png\n",
    "\n",
    "And a dark background:\n",
    "\n",
    "https://i.imgur.com/wzSDb7v.png"
   ]
  },
  {
   "cell_type": "markdown",
   "metadata": {},
   "source": [
    "We also want all the images to be the same size. This is important for how the model will read the images. Let's define that function here."
   ]
  },
  {
   "cell_type": "code",
   "execution_count": 7,
   "metadata": {
    "collapsed": true
   },
   "outputs": [],
   "source": [
    "def resize_image(image, min_dim=None, max_dim=None, padding=False):\n",
    "    \"\"\"\n",
    "    Resizes an image keeping the aspect ratio.\n",
    "\n",
    "    min_dim: if provided, resizes the image such that it's smaller\n",
    "        dimension == min_dim\n",
    "    max_dim: if provided, ensures that the image longest side doesn't\n",
    "        exceed this value.\n",
    "    padding: If true, pads image with zeros so it's size is max_dim x max_dim\n",
    "\n",
    "    Returns:\n",
    "    image: the resized image\n",
    "    \n",
    "    \"\"\"\n",
    "    # Default window (y1, x1, y2, x2) and default scale == 1.\n",
    "    h, w = image.shape[:2]\n",
    "    window = (0, 0, h, w)\n",
    "    scale = 1\n",
    "\n",
    "    if min_dim:\n",
    "        # Scale up but not down\n",
    "        scale = max(1, min_dim / min(h, w))\n",
    "    # Does it exceed max dim?\n",
    "    if max_dim:\n",
    "        image_max = max(h, w)\n",
    "        if round(image_max * scale) > max_dim:\n",
    "            scale = max_dim / image_max\n",
    "    # Resize image and mask\n",
    "    if scale != 1:\n",
    "        image = scipy.misc.imresize(\n",
    "            image, (round(h * scale), round(w * scale)))\n",
    "    # Need padding?\n",
    "    if padding:\n",
    "        # Get new height and width\n",
    "        h, w = image.shape[:2]\n",
    "        top_pad = (max_dim - h) // 2\n",
    "        bottom_pad = max_dim - h - top_pad\n",
    "        left_pad = (max_dim - w) // 2\n",
    "        right_pad = max_dim - w - left_pad\n",
    "        padding = [(top_pad, bottom_pad), (left_pad, right_pad), (0, 0)]\n",
    "        image = np.pad(image, padding, mode='constant', constant_values=0)\n",
    "        window = (top_pad, left_pad, h + top_pad, w + left_pad)\n",
    "    return image"
   ]
  },
  {
   "cell_type": "markdown",
   "metadata": {},
   "source": [
    "We can now iterate through the images and apply these functions. The resulting images will be stored in a new directory, titled 'Images'."
   ]
  },
  {
   "cell_type": "code",
   "execution_count": 8,
   "metadata": {
    "collapsed": true
   },
   "outputs": [],
   "source": [
    "nuclei_folders = os.listdir(str(cwd+'/stage1_train_fix/'))\n",
    "os.chdir('stage1_train_fix/')\n",
    "\n",
    "cwd = os.getcwd()\n",
    "\n",
    "for i in nuclei_folders:\n",
    "    work_dir = os.getcwd()\n",
    "    images_dir = str(work_dir+'/images/')\n",
    "    if os.path.isdir(images_dir):\n",
    "        os.chdir(images_dir)\n",
    "    else:\n",
    "        os.mkdir(images_dir)\n",
    "        os.chdir(images_dir)\n",
    "    image = os.listdir(str(cwd+'/'+i+'/images/'))[0]\n",
    "    \n",
    "    new_img_name = str(image[:-4] + 'new.png')\n",
    "    new_img = stretch_contrast(str(cwd+'/'+i+'/images/'+image))\n",
    "    cv2.imwrite(new_img_name,new_img)\n",
    "    new_img = invert_imgs(new_img_name)\n",
    "    new_img = resize_image(new_img, 800, 1042, padding = True)\n",
    "    cv2.imwrite(new_img_name,new_img)\n",
    "\n",
    "    os.chdir(work_dir)"
   ]
  },
  {
   "cell_type": "markdown",
   "metadata": {
    "collapsed": true
   },
   "source": [
    "After pre-processing, the example light image now appears as this:\n",
    "\n",
    "https://imgur.com/nVLREMY\n",
    "\n",
    "while the dark image remains the same, but resized:\n",
    "\n",
    "https://imgur.com/Lr5KmLF"
   ]
  }
 ],
 "metadata": {
  "kernelspec": {
   "display_name": "Python 3",
   "language": "python",
   "name": "python3"
  },
  "language_info": {
   "codemirror_mode": {
    "name": "ipython",
    "version": 3
   },
   "file_extension": ".py",
   "mimetype": "text/x-python",
   "name": "python",
   "nbconvert_exporter": "python",
   "pygments_lexer": "ipython3",
   "version": "3.5.4"
  }
 },
 "nbformat": 4,
 "nbformat_minor": 2
}
