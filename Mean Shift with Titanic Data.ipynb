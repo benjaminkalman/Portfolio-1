{
 "cells": [
  {
   "cell_type": "markdown",
   "metadata": {},
   "source": [
    "# Titanic Passenger Clusters with Mean Shift\n",
    "\n",
    "In this dataset, we will use the famous Titanic Passengers dataset to test out a mean shift model, and see if the model's clusters can give us any insight into what determined if a passenger survuved or died.\n",
    "\n",
    "Let's start by importing the linraries we will be using and loading the dataset."
   ]
  },
  {
   "cell_type": "code",
   "execution_count": 1,
   "metadata": {},
   "outputs": [
    {
     "name": "stderr",
     "output_type": "stream",
     "text": [
      "C:\\Users\\Drew\\Anaconda3\\lib\\site-packages\\sklearn\\cross_validation.py:41: DeprecationWarning: This module was deprecated in version 0.18 in favor of the model_selection module into which all the refactored classes and functions are moved. Also note that the interface of the new CV iterators are different from that of this module. This module will be removed in 0.20.\n",
      "  \"This module will be removed in 0.20.\", DeprecationWarning)\n"
     ]
    }
   ],
   "source": [
    "import numpy as np\n",
    "from sklearn.cluster import MeanShift, KMeans\n",
    "from sklearn import preprocessing, cross_validation\n",
    "import pandas as pd\n",
    "import matplotlib.pyplot as plt\n",
    "\n",
    "\n",
    "'''\n",
    "Pclass Passenger Class (1 = 1st; 2 = 2nd; 3 = 3rd)\n",
    "survival Survival (0 = No; 1 = Yes)\n",
    "name Name\n",
    "sex Sex\n",
    "age Age\n",
    "sibsp Number of Siblings/Spouses Aboard\n",
    "parch Number of Parents/Children Aboard\n",
    "ticket Ticket Number\n",
    "fare Passenger Fare (British pound)\n",
    "cabin Cabin\n",
    "embarked Port of Embarkation (C = Cherbourg; Q = Queenstown; S = Southampton)\n",
    "boat Lifeboat\n",
    "body Body Identification Number\n",
    "home.dest Home/Destination\n",
    "'''\n",
    "\n",
    "df = pd.read_excel('titanic.xls')"
   ]
  },
  {
   "cell_type": "markdown",
   "metadata": {},
   "source": [
    "Let's make a copy of the df so that we can see values as text instead of ints at the end. We must convert qualifiable values to ints for the model, and wil use the copy of the df to return the text values after. We will make a function for this conversion below."
   ]
  },
  {
   "cell_type": "code",
   "execution_count": 2,
   "metadata": {},
   "outputs": [],
   "source": [
    "original_df = pd.DataFrame.copy(df)\n",
    "df.drop(['body','name'], 1, inplace=True)\n",
    "df.fillna(0,inplace=True)\n",
    "\n",
    "def handle_non_numerical_data(df):\n",
    "    \n",
    "    columns = df.columns.values\n",
    "\n",
    "    for column in columns:\n",
    "        text_digit_vals = {}\n",
    "        def convert_to_int(val):\n",
    "            return text_digit_vals[val]\n",
    "\n",
    "        if df[column].dtype != np.int64 and df[column].dtype != np.float64:\n",
    "            \n",
    "            column_contents = df[column].values.tolist()\n",
    "            unique_elements = set(column_contents) \n",
    "            x = 0\n",
    "            for unique in unique_elements:\n",
    "                if unique not in text_digit_vals:\n",
    "                    text_digit_vals[unique] = x\n",
    "                    x+=1 \n",
    "            df[column] = list(map(convert_to_int,df[column]))\n",
    "\n",
    "    return df"
   ]
  },
  {
   "cell_type": "markdown",
   "metadata": {},
   "source": [
    "We will now run the conversion function on the df, and drop un-needed fields."
   ]
  },
  {
   "cell_type": "code",
   "execution_count": 3,
   "metadata": {},
   "outputs": [],
   "source": [
    "df = handle_non_numerical_data(df)\n",
    "df.drop(['ticket','home.dest'], 1, inplace=True)"
   ]
  },
  {
   "cell_type": "markdown",
   "metadata": {},
   "source": [
    "Now we will create and train our model."
   ]
  },
  {
   "cell_type": "code",
   "execution_count": 4,
   "metadata": {},
   "outputs": [
    {
     "data": {
      "text/plain": [
       "MeanShift(bandwidth=None, bin_seeding=False, cluster_all=True, min_bin_freq=1,\n",
       "     n_jobs=1, seeds=None)"
      ]
     },
     "execution_count": 4,
     "metadata": {},
     "output_type": "execute_result"
    }
   ],
   "source": [
    "X = np.array(df.drop(['survived'], 1).astype(float))\n",
    "X = preprocessing.scale(X)\n",
    "y = np.array(df['survived'])\n",
    "\n",
    "clf = MeanShift()\n",
    "clf.fit(X)"
   ]
  },
  {
   "cell_type": "markdown",
   "metadata": {},
   "source": [
    "We will now create a placeholder column for where we will be assigning a cluster group to each passenger. We will then iterate through each passenger and fill in the placeholder column by assigning them the appropriate cluster group. We will then count how many clusters the model created."
   ]
  },
  {
   "cell_type": "code",
   "execution_count": 5,
   "metadata": {},
   "outputs": [
    {
     "name": "stderr",
     "output_type": "stream",
     "text": [
      "C:\\Users\\Drew\\Anaconda3\\lib\\site-packages\\pandas\\core\\indexing.py:194: SettingWithCopyWarning: \n",
      "A value is trying to be set on a copy of a slice from a DataFrame\n",
      "\n",
      "See the caveats in the documentation: http://pandas.pydata.org/pandas-docs/stable/indexing.html#indexing-view-versus-copy\n",
      "  self._setitem_with_indexer(indexer, value)\n"
     ]
    },
    {
     "name": "stdout",
     "output_type": "stream",
     "text": [
      "4\n"
     ]
    }
   ],
   "source": [
    "labels = clf.labels_\n",
    "cluster_centers = clf.cluster_centers_\n",
    "\n",
    "original_df['cluster_group'] = np.nan\n",
    "\n",
    "for i in range(len(X)):\n",
    "    original_df['cluster_group'].iloc[i] = labels[i]\n",
    "\n",
    "n_clusters_ = len(np.unique(labels))\n",
    "print(n_clusters_)"
   ]
  },
  {
   "cell_type": "markdown",
   "metadata": {},
   "source": [
    "We would like to check if the model's clusters reflect chances of survival in any way. Let's calculate survival rates per cluster."
   ]
  },
  {
   "cell_type": "code",
   "execution_count": 6,
   "metadata": {},
   "outputs": [
    {
     "name": "stdout",
     "output_type": "stream",
     "text": [
      "0 0.3723150357995227\n",
      "1 1.0\n",
      "2 0.6944444444444444\n",
      "3 0.1\n"
     ]
    }
   ],
   "source": [
    "survival_rates = {}\n",
    "for i in range(n_clusters_):\n",
    "    temp_df = original_df[ (original_df['cluster_group']==float(i)) ]\n",
    "    survival_cluster = temp_df[  (temp_df['survived'] == 1) ]\n",
    "\n",
    "    survival_rate = len(survival_cluster) / len(temp_df)\n",
    "    print(i,survival_rate)\n",
    "    survival_rates[i] = survival_rate\n",
    "    \n",
    "#print(survival_rates)"
   ]
  },
  {
   "cell_type": "markdown",
   "metadata": {},
   "source": [
    "We should now explore these clusters to see if we can get any valuable insight. We can do this by using a where clause, only pulling data from rows where the cluster group assigned matches what we want."
   ]
  },
  {
   "cell_type": "code",
   "execution_count": 7,
   "metadata": {},
   "outputs": [
    {
     "name": "stdout",
     "output_type": "stream",
     "text": [
      "     pclass  survived                                               name  \\\n",
      "10        1         0                             Astor, Col. John Jacob   \n",
      "11        1         1  Astor, Mrs. John Jacob (Madeleine Talmadge Force)   \n",
      "16        1         0                           Baxter, Mr. Quigg Edmond   \n",
      "17        1         1    Baxter, Mrs. James (Helene DeLaudeniere Chaput)   \n",
      "32        1         1                            Bonnell, Miss. Caroline   \n",
      "54        1         1                Carter, Master. William Thornton II   \n",
      "55        1         1                          Carter, Miss. Lucile Polk   \n",
      "56        1         1                         Carter, Mr. William Ernest   \n",
      "57        1         1          Carter, Mrs. William Ernest (Lucile Polk)   \n",
      "61        1         1  Cavendish, Mrs. Tyrell William (Julia Florence...   \n",
      "97        1         1  Douglas, Mrs. Frederick Charles (Mary Helene B...   \n",
      "103       1         1                      Endres, Miss. Caroline Louise   \n",
      "111       1         1                     Fortune, Miss. Alice Elizabeth   \n",
      "112       1         1                         Fortune, Miss. Ethel Flora   \n",
      "113       1         1                         Fortune, Miss. Mabel Helen   \n",
      "114       1         0                     Fortune, Mr. Charles Alexander   \n",
      "115       1         0                                  Fortune, Mr. Mark   \n",
      "116       1         1                Fortune, Mrs. Mark (Mary McDougald)   \n",
      "129       1         1                               Geiger, Miss. Amalie   \n",
      "173       1         0                                 Keeping, Mr. Edwin   \n",
      "192       1         1                               Lurette, Miss. Elise   \n",
      "193       1         1                  Madill, Miss. Georgette Alexandra   \n",
      "215       1         0                         Newell, Mr. Arthur Webster   \n",
      "238       1         1  Robert, Mrs. Edward Scott (Elisabeth Walton Mc...   \n",
      "249       1         1                        Ryerson, Master. John Borie   \n",
      "250       1         1                         Ryerson, Miss. Emily Borie   \n",
      "251       1         1              Ryerson, Miss. Susan Parker \"Suzette\"   \n",
      "252       1         0                         Ryerson, Mr. Arthur Larned   \n",
      "253       1         1    Ryerson, Mrs. Arthur Larned (Emily Maria Borie)   \n",
      "285       1         0                                 Straus, Mr. Isidor   \n",
      "286       1         0             Straus, Mrs. Isidor (Rosalie Ida Blun)   \n",
      "289       1         1                                Taussig, Miss. Ruth   \n",
      "309       1         1                           Wick, Miss. Mary Natalie   \n",
      "312       1         0                         Widener, Mr. George Dunton   \n",
      "313       1         0                          Widener, Mr. Harry Elkins   \n",
      "314       1         1       Widener, Mrs. George Dunton (Eleanor Elkins)   \n",
      "\n",
      "        sex   age  sibsp  parch    ticket      fare            cabin embarked  \\\n",
      "10     male  47.0      1      0  PC 17757  227.5250          C62 C64        C   \n",
      "11   female  18.0      1      0  PC 17757  227.5250          C62 C64        C   \n",
      "16     male  24.0      0      1  PC 17558  247.5208          B58 B60        C   \n",
      "17   female  50.0      0      1  PC 17558  247.5208          B58 B60        C   \n",
      "32   female  30.0      0      0     36928  164.8667               C7        S   \n",
      "54     male  11.0      1      2    113760  120.0000          B96 B98        S   \n",
      "55   female  14.0      1      2    113760  120.0000          B96 B98        S   \n",
      "56     male  36.0      1      2    113760  120.0000          B96 B98        S   \n",
      "57   female  36.0      1      2    113760  120.0000          B96 B98        S   \n",
      "61   female  76.0      1      0     19877   78.8500              C46        S   \n",
      "97   female  27.0      1      1  PC 17558  247.5208          B58 B60        C   \n",
      "103  female  38.0      0      0  PC 17757  227.5250              C45        C   \n",
      "111  female  24.0      3      2     19950  263.0000      C23 C25 C27        S   \n",
      "112  female  28.0      3      2     19950  263.0000      C23 C25 C27        S   \n",
      "113  female  23.0      3      2     19950  263.0000      C23 C25 C27        S   \n",
      "114    male  19.0      3      2     19950  263.0000      C23 C25 C27        S   \n",
      "115    male  64.0      1      4     19950  263.0000      C23 C25 C27        S   \n",
      "116  female  60.0      1      4     19950  263.0000      C23 C25 C27        S   \n",
      "129  female  35.0      0      0    113503  211.5000             C130        C   \n",
      "173    male  32.5      0      0    113503  211.5000             C132        C   \n",
      "192  female  58.0      0      0  PC 17569  146.5208              B80        C   \n",
      "193  female  15.0      0      1     24160  211.3375               B5        S   \n",
      "215    male  58.0      0      2     35273  113.2750              D48        C   \n",
      "238  female  43.0      0      1     24160  211.3375               B3        S   \n",
      "249    male  13.0      2      2  PC 17608  262.3750  B57 B59 B63 B66        C   \n",
      "250  female  18.0      2      2  PC 17608  262.3750  B57 B59 B63 B66        C   \n",
      "251  female  21.0      2      2  PC 17608  262.3750  B57 B59 B63 B66        C   \n",
      "252    male  61.0      1      3  PC 17608  262.3750  B57 B59 B63 B66        C   \n",
      "253  female  48.0      1      3  PC 17608  262.3750  B57 B59 B63 B66        C   \n",
      "285    male  67.0      1      0  PC 17483  221.7792          C55 C57        S   \n",
      "286  female  63.0      1      0  PC 17483  221.7792          C55 C57        S   \n",
      "289  female  18.0      0      2    110413   79.6500              E68        S   \n",
      "309  female  31.0      0      2     36928  164.8667               C7        S   \n",
      "312    male  50.0      1      1    113503  211.5000              C80        C   \n",
      "313    male  27.0      0      2    113503  211.5000              C82        C   \n",
      "314  female  50.0      1      1    113503  211.5000              C80        C   \n",
      "\n",
      "    boat   body                        home.dest  cluster_group  \n",
      "10   NaN  124.0                     New York, NY            2.0  \n",
      "11     4    NaN                     New York, NY            2.0  \n",
      "16   NaN    NaN                     Montreal, PQ            2.0  \n",
      "17     6    NaN                     Montreal, PQ            2.0  \n",
      "32     8    NaN                   Youngstown, OH            2.0  \n",
      "54     4    NaN                    Bryn Mawr, PA            2.0  \n",
      "55     4    NaN                    Bryn Mawr, PA            2.0  \n",
      "56     C    NaN                    Bryn Mawr, PA            2.0  \n",
      "57     4    NaN                    Bryn Mawr, PA            2.0  \n",
      "61     6    NaN          Little Onn Hall, Staffs            2.0  \n",
      "97     6    NaN                     Montreal, PQ            2.0  \n",
      "103    4    NaN                     New York, NY            2.0  \n",
      "111   10    NaN                     Winnipeg, MB            2.0  \n",
      "112   10    NaN                     Winnipeg, MB            2.0  \n",
      "113   10    NaN                     Winnipeg, MB            2.0  \n",
      "114  NaN    NaN                     Winnipeg, MB            2.0  \n",
      "115  NaN    NaN                     Winnipeg, MB            2.0  \n",
      "116   10    NaN                     Winnipeg, MB            2.0  \n",
      "129    4    NaN                              NaN            2.0  \n",
      "173  NaN   45.0                              NaN            2.0  \n",
      "192  NaN    NaN                              NaN            2.0  \n",
      "193    2    NaN                     St Louis, MO            2.0  \n",
      "215  NaN  122.0                    Lexington, MA            2.0  \n",
      "238    2    NaN                     St Louis, MO            2.0  \n",
      "249    4    NaN  Haverford, PA / Cooperstown, NY            2.0  \n",
      "250    4    NaN  Haverford, PA / Cooperstown, NY            2.0  \n",
      "251    4    NaN  Haverford, PA / Cooperstown, NY            2.0  \n",
      "252  NaN    NaN  Haverford, PA / Cooperstown, NY            2.0  \n",
      "253    4    NaN  Haverford, PA / Cooperstown, NY            2.0  \n",
      "285  NaN   96.0                     New York, NY            2.0  \n",
      "286  NaN    NaN                     New York, NY            2.0  \n",
      "289    8    NaN                     New York, NY            2.0  \n",
      "309    8    NaN                   Youngstown, OH            2.0  \n",
      "312  NaN    NaN                  Elkins Park, PA            2.0  \n",
      "313  NaN    NaN                  Elkins Park, PA            2.0  \n",
      "314    4    NaN                  Elkins Park, PA            2.0  \n",
      "       pclass   survived        age      sibsp      parch        fare  \\\n",
      "count    36.0  36.000000  36.000000  36.000000  36.000000   36.000000   \n",
      "mean      1.0   0.694444  37.041667   0.944444   1.416667  207.410417   \n",
      "std       0.0   0.467177  18.073017   0.954521   1.130739   58.509153   \n",
      "min       1.0   0.000000  11.000000   0.000000   0.000000   78.850000   \n",
      "25%       1.0   0.000000  22.500000   0.000000   0.000000  164.866700   \n",
      "50%       1.0   1.000000  33.750000   1.000000   2.000000  221.779200   \n",
      "75%       1.0   1.000000  50.000000   1.000000   2.000000  262.375000   \n",
      "max       1.0   1.000000  76.000000   3.000000   4.000000  263.000000   \n",
      "\n",
      "             body  cluster_group  \n",
      "count    4.000000           36.0  \n",
      "mean    96.750000            2.0  \n",
      "std     36.782016            0.0  \n",
      "min     45.000000            2.0  \n",
      "25%     83.250000            2.0  \n",
      "50%    109.000000            2.0  \n",
      "75%    122.500000            2.0  \n",
      "max    124.000000            2.0  \n"
     ]
    }
   ],
   "source": [
    "print(original_df[(original_df['cluster_group']==2)])\n",
    "print(original_df[(original_df['cluster_group']==2)].describe())"
   ]
  },
  {
   "cell_type": "markdown",
   "metadata": {},
   "source": [
    "We can create separate dataframes using the same logic to separate clusters. From there, we can get even more specific, for example, 1st class passangers in cluster 2. With this info, we can see that 1st class passengers in cluster 2 had a 70% survival rate. Breaking this down further and finding what caused this clustering could then give us some valuable insight."
   ]
  },
  {
   "cell_type": "code",
   "execution_count": 8,
   "metadata": {},
   "outputs": [
    {
     "data": {
      "text/html": [
       "<div>\n",
       "<style scoped>\n",
       "    .dataframe tbody tr th:only-of-type {\n",
       "        vertical-align: middle;\n",
       "    }\n",
       "\n",
       "    .dataframe tbody tr th {\n",
       "        vertical-align: top;\n",
       "    }\n",
       "\n",
       "    .dataframe thead th {\n",
       "        text-align: right;\n",
       "    }\n",
       "</style>\n",
       "<table border=\"1\" class=\"dataframe\">\n",
       "  <thead>\n",
       "    <tr style=\"text-align: right;\">\n",
       "      <th></th>\n",
       "      <th>pclass</th>\n",
       "      <th>survived</th>\n",
       "      <th>age</th>\n",
       "      <th>sibsp</th>\n",
       "      <th>parch</th>\n",
       "      <th>fare</th>\n",
       "      <th>body</th>\n",
       "      <th>cluster_group</th>\n",
       "    </tr>\n",
       "  </thead>\n",
       "  <tbody>\n",
       "    <tr>\n",
       "      <th>count</th>\n",
       "      <td>36.0</td>\n",
       "      <td>36.000000</td>\n",
       "      <td>36.000000</td>\n",
       "      <td>36.000000</td>\n",
       "      <td>36.000000</td>\n",
       "      <td>36.000000</td>\n",
       "      <td>4.000000</td>\n",
       "      <td>36.0</td>\n",
       "    </tr>\n",
       "    <tr>\n",
       "      <th>mean</th>\n",
       "      <td>1.0</td>\n",
       "      <td>0.694444</td>\n",
       "      <td>37.041667</td>\n",
       "      <td>0.944444</td>\n",
       "      <td>1.416667</td>\n",
       "      <td>207.410417</td>\n",
       "      <td>96.750000</td>\n",
       "      <td>2.0</td>\n",
       "    </tr>\n",
       "    <tr>\n",
       "      <th>std</th>\n",
       "      <td>0.0</td>\n",
       "      <td>0.467177</td>\n",
       "      <td>18.073017</td>\n",
       "      <td>0.954521</td>\n",
       "      <td>1.130739</td>\n",
       "      <td>58.509153</td>\n",
       "      <td>36.782016</td>\n",
       "      <td>0.0</td>\n",
       "    </tr>\n",
       "    <tr>\n",
       "      <th>min</th>\n",
       "      <td>1.0</td>\n",
       "      <td>0.000000</td>\n",
       "      <td>11.000000</td>\n",
       "      <td>0.000000</td>\n",
       "      <td>0.000000</td>\n",
       "      <td>78.850000</td>\n",
       "      <td>45.000000</td>\n",
       "      <td>2.0</td>\n",
       "    </tr>\n",
       "    <tr>\n",
       "      <th>25%</th>\n",
       "      <td>1.0</td>\n",
       "      <td>0.000000</td>\n",
       "      <td>22.500000</td>\n",
       "      <td>0.000000</td>\n",
       "      <td>0.000000</td>\n",
       "      <td>164.866700</td>\n",
       "      <td>83.250000</td>\n",
       "      <td>2.0</td>\n",
       "    </tr>\n",
       "    <tr>\n",
       "      <th>50%</th>\n",
       "      <td>1.0</td>\n",
       "      <td>1.000000</td>\n",
       "      <td>33.750000</td>\n",
       "      <td>1.000000</td>\n",
       "      <td>2.000000</td>\n",
       "      <td>221.779200</td>\n",
       "      <td>109.000000</td>\n",
       "      <td>2.0</td>\n",
       "    </tr>\n",
       "    <tr>\n",
       "      <th>75%</th>\n",
       "      <td>1.0</td>\n",
       "      <td>1.000000</td>\n",
       "      <td>50.000000</td>\n",
       "      <td>1.000000</td>\n",
       "      <td>2.000000</td>\n",
       "      <td>262.375000</td>\n",
       "      <td>122.500000</td>\n",
       "      <td>2.0</td>\n",
       "    </tr>\n",
       "    <tr>\n",
       "      <th>max</th>\n",
       "      <td>1.0</td>\n",
       "      <td>1.000000</td>\n",
       "      <td>76.000000</td>\n",
       "      <td>3.000000</td>\n",
       "      <td>4.000000</td>\n",
       "      <td>263.000000</td>\n",
       "      <td>124.000000</td>\n",
       "      <td>2.0</td>\n",
       "    </tr>\n",
       "  </tbody>\n",
       "</table>\n",
       "</div>"
      ],
      "text/plain": [
       "       pclass   survived        age      sibsp      parch        fare  \\\n",
       "count    36.0  36.000000  36.000000  36.000000  36.000000   36.000000   \n",
       "mean      1.0   0.694444  37.041667   0.944444   1.416667  207.410417   \n",
       "std       0.0   0.467177  18.073017   0.954521   1.130739   58.509153   \n",
       "min       1.0   0.000000  11.000000   0.000000   0.000000   78.850000   \n",
       "25%       1.0   0.000000  22.500000   0.000000   0.000000  164.866700   \n",
       "50%       1.0   1.000000  33.750000   1.000000   2.000000  221.779200   \n",
       "75%       1.0   1.000000  50.000000   1.000000   2.000000  262.375000   \n",
       "max       1.0   1.000000  76.000000   3.000000   4.000000  263.000000   \n",
       "\n",
       "             body  cluster_group  \n",
       "count    4.000000           36.0  \n",
       "mean    96.750000            2.0  \n",
       "std     36.782016            0.0  \n",
       "min     45.000000            2.0  \n",
       "25%     83.250000            2.0  \n",
       "50%    109.000000            2.0  \n",
       "75%    122.500000            2.0  \n",
       "max    124.000000            2.0  "
      ]
     },
     "execution_count": 8,
     "metadata": {},
     "output_type": "execute_result"
    }
   ],
   "source": [
    "cluster_2 = original_df[(original_df['cluster_group']==2)]\n",
    "cluster_2_fc = cluster_2[(cluster_2['pclass']==1)]\n",
    "cluster_2_fc.describe()\n",
    "#This shows that the first class passengers in cluster 2 had a 70% survival rate"
   ]
  },
  {
   "cell_type": "markdown",
   "metadata": {},
   "source": [
    "You may have noticed group 1 has a 100% survival rate, and group 3's survival rate was as low as 10%. As we can see, the model was able to group the passengers in a way that can help us determine what factors led to death or survival, all without us programming it to do so."
   ]
  }
 ],
 "metadata": {
  "kernelspec": {
   "display_name": "Python 3",
   "language": "python",
   "name": "python3"
  },
  "language_info": {
   "codemirror_mode": {
    "name": "ipython",
    "version": 3
   },
   "file_extension": ".py",
   "mimetype": "text/x-python",
   "name": "python",
   "nbconvert_exporter": "python",
   "pygments_lexer": "ipython3",
   "version": "3.6.4"
  }
 },
 "nbformat": 4,
 "nbformat_minor": 2
}
